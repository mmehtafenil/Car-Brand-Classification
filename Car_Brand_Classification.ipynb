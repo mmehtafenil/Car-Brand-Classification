{
  "nbformat": 4,
  "nbformat_minor": 0,
  "metadata": {
    "colab": {
      "name": "Car Brand Classification.ipynb",
      "provenance": [],
      "collapsed_sections": [],
      "authorship_tag": "ABX9TyPO003UhBH9Fn3F/gbKQPi/",
      "include_colab_link": true
    },
    "kernelspec": {
      "name": "python3",
      "display_name": "Python 3"
    }
  },
  "cells": [
    {
      "cell_type": "markdown",
      "metadata": {
        "id": "view-in-github",
        "colab_type": "text"
      },
      "source": [
        "<a href=\"https://colab.research.google.com/github/mmehtafenil/Car-Brand-Classification/blob/main/Car_Brand_Classification.ipynb\" target=\"_parent\"><img src=\"https://colab.research.google.com/assets/colab-badge.svg\" alt=\"Open In Colab\"/></a>"
      ]
    },
    {
      "cell_type": "code",
      "metadata": {
        "colab": {
          "base_uri": "https://localhost:8080/"
        },
        "id": "IVqHKr3HfBvh",
        "outputId": "1a8294a5-d1de-41c5-c0d7-4f3a1fb81a46"
      },
      "source": [
        "from google.colab import drive\r\n",
        "drive.mount('/content/drive')\r\n",
        "!unrar x '/content/drive/My Drive/Data Science Projects/Car Brand Classification/Datasets.rar' '/content/Dataset/'"
      ],
      "execution_count": 1,
      "outputs": [
        {
          "output_type": "stream",
          "text": [
            "Mounted at /content/drive\n",
            "\n",
            "UNRAR 5.50 freeware      Copyright (c) 1993-2017 Alexander Roshal\n",
            "\n",
            "\n",
            "Extracting from /content/drive/My Drive/Data Science Projects/Car Brand Classification/Datasets.rar\n",
            "\n",
            "Creating    /content/Dataset                                          OK\n",
            "Creating    /content/Dataset/Datasets                                 OK\n",
            "Creating    /content/Dataset/Datasets/Test                            OK\n",
            "Creating    /content/Dataset/Datasets/Test/audi                       OK\n",
            "Extracting  /content/Dataset/Datasets/Test/audi/21.jpg                   \b\b\b\b  1%\b\b\b\b\b  OK \n",
            "Extracting  /content/Dataset/Datasets/Test/audi/22.jpg                   \b\b\b\b  1%\b\b\b\b\b  OK \n",
            "Extracting  /content/Dataset/Datasets/Test/audi/23.jpg                   \b\b\b\b  2%\b\b\b\b\b  OK \n",
            "Extracting  /content/Dataset/Datasets/Test/audi/24.jpg                   \b\b\b\b  4%\b\b\b\b\b  OK \n",
            "Extracting  /content/Dataset/Datasets/Test/audi/25.jpg                   \b\b\b\b  5%\b\b\b\b\b  OK \n",
            "Extracting  /content/Dataset/Datasets/Test/audi/26.jpg                   \b\b\b\b  6%\b\b\b\b\b  OK \n",
            "Extracting  /content/Dataset/Datasets/Test/audi/27.jpg                   \b\b\b\b  7%\b\b\b\b\b  OK \n",
            "Extracting  /content/Dataset/Datasets/Test/audi/28.jpg                   \b\b\b\b  7%\b\b\b\b\b  OK \n",
            "Extracting  /content/Dataset/Datasets/Test/audi/29.jpg                   \b\b\b\b  8%\b\b\b\b\b  OK \n",
            "Creating    /content/Dataset/Datasets/Test/lamborghini                OK\n",
            "Extracting  /content/Dataset/Datasets/Test/lamborghini/1.jpg             \b\b\b\b  9%\b\b\b\b\b  OK \n",
            "Extracting  /content/Dataset/Datasets/Test/lamborghini/10.jpg            \b\b\b\b 10%\b\b\b\b\b  OK \n",
            "Extracting  /content/Dataset/Datasets/Test/lamborghini/11.jpg            \b\b\b\b 11%\b\b\b\b\b  OK \n",
            "Extracting  /content/Dataset/Datasets/Test/lamborghini/12.jpg            \b\b\b\b 12%\b\b\b\b\b  OK \n",
            "Extracting  /content/Dataset/Datasets/Test/lamborghini/13.jpg            \b\b\b\b 12%\b\b\b\b\b  OK \n",
            "Extracting  /content/Dataset/Datasets/Test/lamborghini/14.jpg            \b\b\b\b 13%\b\b\b\b\b  OK \n",
            "Extracting  /content/Dataset/Datasets/Test/lamborghini/15.jpg            \b\b\b\b 14%\b\b\b\b\b  OK \n",
            "Extracting  /content/Dataset/Datasets/Test/lamborghini/16.jpg            \b\b\b\b 15%\b\b\b\b\b  OK \n",
            "Extracting  /content/Dataset/Datasets/Test/lamborghini/17.jpg            \b\b\b\b 16%\b\b\b\b\b  OK \n",
            "Extracting  /content/Dataset/Datasets/Test/lamborghini/18.jpg            \b\b\b\b 16%\b\b\b\b\b  OK \n",
            "Extracting  /content/Dataset/Datasets/Test/lamborghini/19.jpg            \b\b\b\b 17%\b\b\b\b\b  OK \n",
            "Extracting  /content/Dataset/Datasets/Test/lamborghini/2.jpg             \b\b\b\b 18%\b\b\b\b\b  OK \n",
            "Extracting  /content/Dataset/Datasets/Test/lamborghini/20.jog.jpg        \b\b\b\b 19%\b\b\b\b\b  OK \n",
            "Extracting  /content/Dataset/Datasets/Test/lamborghini/21.jpg            \b\b\b\b 20%\b\b\b\b\b  OK \n",
            "Extracting  /content/Dataset/Datasets/Test/lamborghini/22.jpg            \b\b\b\b 21%\b\b\b\b\b  OK \n",
            "Extracting  /content/Dataset/Datasets/Test/lamborghini/23.jpg            \b\b\b\b 21%\b\b\b\b\b  OK \n",
            "Extracting  /content/Dataset/Datasets/Test/lamborghini/24.jpg            \b\b\b\b 22%\b\b\b\b\b  OK \n",
            "Extracting  /content/Dataset/Datasets/Test/lamborghini/25.jpg            \b\b\b\b 22%\b\b\b\b\b  OK \n",
            "Extracting  /content/Dataset/Datasets/Test/lamborghini/26.jpg            \b\b\b\b 23%\b\b\b\b\b  OK \n",
            "Extracting  /content/Dataset/Datasets/Test/lamborghini/27.jpg            \b\b\b\b 24%\b\b\b\b\b  OK \n",
            "Extracting  /content/Dataset/Datasets/Test/lamborghini/28.jpg            \b\b\b\b 24%\b\b\b\b\b  OK \n",
            "Extracting  /content/Dataset/Datasets/Test/lamborghini/29.jpg            \b\b\b\b 25%\b\b\b\b\b  OK \n",
            "Extracting  /content/Dataset/Datasets/Test/lamborghini/3.jpg             \b\b\b\b 26%\b\b\b\b\b  OK \n",
            "Extracting  /content/Dataset/Datasets/Test/lamborghini/30.jpg            \b\b\b\b 28%\b\b\b\b\b  OK \n",
            "Extracting  /content/Dataset/Datasets/Test/lamborghini/4.jpg             \b\b\b\b 29%\b\b\b\b\b  OK \n",
            "Extracting  /content/Dataset/Datasets/Test/lamborghini/5.jpg             \b\b\b\b 30%\b\b\b\b\b  OK \n",
            "Extracting  /content/Dataset/Datasets/Test/lamborghini/6.jpg             \b\b\b\b 30%\b\b\b\b\b  OK \n",
            "Extracting  /content/Dataset/Datasets/Test/lamborghini/7.jpg             \b\b\b\b 31%\b\b\b\b\b  OK \n",
            "Extracting  /content/Dataset/Datasets/Test/lamborghini/8.jpg             \b\b\b\b 32%\b\b\b\b\b  OK \n",
            "Extracting  /content/Dataset/Datasets/Test/lamborghini/9.jpg             \b\b\b\b 33%\b\b\b\b\b  OK \n",
            "Creating    /content/Dataset/Datasets/Test/mercedes                   OK\n",
            "Extracting  /content/Dataset/Datasets/Test/mercedes/27.jpg               \b\b\b\b 34%\b\b\b\b\b  OK \n",
            "Extracting  /content/Dataset/Datasets/Test/mercedes/28.jpg               \b\b\b\b 35%\b\b\b\b\b  OK \n",
            "Extracting  /content/Dataset/Datasets/Test/mercedes/29.jpg               \b\b\b\b 35%\b\b\b\b\b  OK \n",
            "Extracting  /content/Dataset/Datasets/Test/mercedes/30.jpg               \b\b\b\b 36%\b\b\b\b\b  OK \n",
            "Extracting  /content/Dataset/Datasets/Test/mercedes/31.jpg               \b\b\b\b 36%\b\b\b\b\b  OK \n",
            "Extracting  /content/Dataset/Datasets/Test/mercedes/32.jpg               \b\b\b\b 38%\b\b\b\b\b  OK \n",
            "Extracting  /content/Dataset/Datasets/Test/mercedes/33.jpg               \b\b\b\b 38%\b\b\b\b\b  OK \n",
            "Extracting  /content/Dataset/Datasets/Test/mercedes/34.jpg               \b\b\b\b 39%\b\b\b\b\b  OK \n",
            "Extracting  /content/Dataset/Datasets/Test/mercedes/35.jpg               \b\b\b\b 40%\b\b\b\b\b  OK \n",
            "Extracting  /content/Dataset/Datasets/Test/mercedes/36.jpg               \b\b\b\b 40%\b\b\b\b\b  OK \n",
            "Extracting  /content/Dataset/Datasets/Test/mercedes/37.jpg               \b\b\b\b 41%\b\b\b\b\b  OK \n",
            "Extracting  /content/Dataset/Datasets/Test/mercedes/38.jpg               \b\b\b\b 41%\b\b\b\b\b  OK \n",
            "Extracting  /content/Dataset/Datasets/Test/mercedes/39.jpg               \b\b\b\b 42%\b\b\b\b\b  OK \n",
            "Extracting  /content/Dataset/Datasets/Test/mercedes/40.jpg               \b\b\b\b 43%\b\b\b\b\b  OK \n",
            "Extracting  /content/Dataset/Datasets/Test/mercedes/41.jpg               \b\b\b\b 44%\b\b\b\b\b  OK \n",
            "Extracting  /content/Dataset/Datasets/Test/mercedes/42.jpg               \b\b\b\b 45%\b\b\b\b\b  OK \n",
            "Extracting  /content/Dataset/Datasets/Test/mercedes/43.jpg               \b\b\b\b 45%\b\b\b\b\b  OK \n",
            "Extracting  /content/Dataset/Datasets/Test/mercedes/44.jpg               \b\b\b\b 46%\b\b\b\b\b  OK \n",
            "Extracting  /content/Dataset/Datasets/Test/mercedes/45.jpg               \b\b\b\b 46%\b\b\b\b\b  OK \n",
            "Creating    /content/Dataset/Datasets/Train                           OK\n",
            "Creating    /content/Dataset/Datasets/Train/audi                      OK\n",
            "Extracting  /content/Dataset/Datasets/Train/audi/1.jpg                   \b\b\b\b 47%\b\b\b\b\b  OK \n",
            "Extracting  /content/Dataset/Datasets/Train/audi/10.jpg                  \b\b\b\b 48%\b\b\b\b\b  OK \n",
            "Extracting  /content/Dataset/Datasets/Train/audi/11.jpg                  \b\b\b\b 49%\b\b\b\b\b  OK \n",
            "Extracting  /content/Dataset/Datasets/Train/audi/12.jpg                  \b\b\b\b 50%\b\b\b\b\b  OK \n",
            "Extracting  /content/Dataset/Datasets/Train/audi/13.jpg                  \b\b\b\b 51%\b\b\b\b\b  OK \n",
            "Extracting  /content/Dataset/Datasets/Train/audi/14.jpg                  \b\b\b\b 51%\b\b\b\b\b  OK \n",
            "Extracting  /content/Dataset/Datasets/Train/audi/15.jpg                  \b\b\b\b 52%\b\b\b\b\b  OK \n",
            "Extracting  /content/Dataset/Datasets/Train/audi/16.jpg                  \b\b\b\b 53%\b\b\b\b\b  OK \n",
            "Extracting  /content/Dataset/Datasets/Train/audi/17.jpg                  \b\b\b\b 54%\b\b\b\b\b  OK \n",
            "Extracting  /content/Dataset/Datasets/Train/audi/18.jpg                  \b\b\b\b 54%\b\b\b\b\b  OK \n",
            "Extracting  /content/Dataset/Datasets/Train/audi/19.jpg                  \b\b\b\b 55%\b\b\b\b\b  OK \n",
            "Extracting  /content/Dataset/Datasets/Train/audi/2.jpg                   \b\b\b\b 56%\b\b\b\b\b  OK \n",
            "Extracting  /content/Dataset/Datasets/Train/audi/20.jpg                  \b\b\b\b 57%\b\b\b\b\b  OK \n",
            "Extracting  /content/Dataset/Datasets/Train/audi/3.jpg                   \b\b\b\b 58%\b\b\b\b\b  OK \n",
            "Extracting  /content/Dataset/Datasets/Train/audi/4.jpg                   \b\b\b\b 58%\b\b\b\b\b  OK \n",
            "Extracting  /content/Dataset/Datasets/Train/audi/5.jpg                   \b\b\b\b 59%\b\b\b\b\b  OK \n",
            "Extracting  /content/Dataset/Datasets/Train/audi/6.jpg                   \b\b\b\b 60%\b\b\b\b\b  OK \n",
            "Extracting  /content/Dataset/Datasets/Train/audi/7.jpg                   \b\b\b\b 61%\b\b\b\b\b  OK \n",
            "Extracting  /content/Dataset/Datasets/Train/audi/8.jpg                   \b\b\b\b 62%\b\b\b\b\b  OK \n",
            "Extracting  /content/Dataset/Datasets/Train/audi/9.jpg                   \b\b\b\b 63%\b\b\b\b\b  OK \n",
            "Creating    /content/Dataset/Datasets/Train/lamborghini               OK\n",
            "Extracting  /content/Dataset/Datasets/Train/lamborghini/1.jpg            \b\b\b\b 64%\b\b\b\b\b  OK \n",
            "Extracting  /content/Dataset/Datasets/Train/lamborghini/10.jpg           \b\b\b\b 65%\b\b\b\b\b  OK \n",
            "Extracting  /content/Dataset/Datasets/Train/lamborghini/11.jpg           \b\b\b\b 66%\b\b\b\b\b  OK \n",
            "Extracting  /content/Dataset/Datasets/Train/lamborghini/12.jpg           \b\b\b\b 66%\b\b\b\b\b  OK \n",
            "Extracting  /content/Dataset/Datasets/Train/lamborghini/13.jpg           \b\b\b\b 67%\b\b\b\b\b  OK \n",
            "Extracting  /content/Dataset/Datasets/Train/lamborghini/14.jpg           \b\b\b\b 68%\b\b\b\b\b  OK \n",
            "Extracting  /content/Dataset/Datasets/Train/lamborghini/15.jpg           \b\b\b\b 68%\b\b\b\b\b  OK \n",
            "Extracting  /content/Dataset/Datasets/Train/lamborghini/16.jpg           \b\b\b\b 70%\b\b\b\b\b  OK \n",
            "Extracting  /content/Dataset/Datasets/Train/lamborghini/17.jpg           \b\b\b\b 70%\b\b\b\b\b  OK \n",
            "Extracting  /content/Dataset/Datasets/Train/lamborghini/18.jpg           \b\b\b\b 71%\b\b\b\b\b  OK \n",
            "Extracting  /content/Dataset/Datasets/Train/lamborghini/19.jpg           \b\b\b\b 72%\b\b\b\b\b  OK \n",
            "Extracting  /content/Dataset/Datasets/Train/lamborghini/2.jpg            \b\b\b\b 73%\b\b\b\b\b  OK \n",
            "Extracting  /content/Dataset/Datasets/Train/lamborghini/3.jpg            \b\b\b\b 74%\b\b\b\b\b  OK \n",
            "Extracting  /content/Dataset/Datasets/Train/lamborghini/4.jpg            \b\b\b\b 75%\b\b\b\b\b  OK \n",
            "Extracting  /content/Dataset/Datasets/Train/lamborghini/5.jpg            \b\b\b\b 76%\b\b\b\b\b  OK \n",
            "Extracting  /content/Dataset/Datasets/Train/lamborghini/6.jpg            \b\b\b\b 77%\b\b\b\b\b  OK \n",
            "Extracting  /content/Dataset/Datasets/Train/lamborghini/7.jpg            \b\b\b\b 78%\b\b\b\b\b  OK \n",
            "Extracting  /content/Dataset/Datasets/Train/lamborghini/8.jpg            \b\b\b\b 79%\b\b\b\b\b  OK \n",
            "Extracting  /content/Dataset/Datasets/Train/lamborghini/9.jpg            \b\b\b\b 79%\b\b\b\b\b  OK \n",
            "Creating    /content/Dataset/Datasets/Train/mercedes                  OK\n",
            "Extracting  /content/Dataset/Datasets/Train/mercedes/1.jpg               \b\b\b\b 80%\b\b\b\b\b  OK \n",
            "Extracting  /content/Dataset/Datasets/Train/mercedes/10.jpg              \b\b\b\b 81%\b\b\b\b\b  OK \n",
            "Extracting  /content/Dataset/Datasets/Train/mercedes/11.jpg              \b\b\b\b 82%\b\b\b\b\b  OK \n",
            "Extracting  /content/Dataset/Datasets/Train/mercedes/12.jpg              \b\b\b\b 83%\b\b\b\b\b  OK \n",
            "Extracting  /content/Dataset/Datasets/Train/mercedes/13.jpg              \b\b\b\b 84%\b\b\b\b\b  OK \n",
            "Extracting  /content/Dataset/Datasets/Train/mercedes/14.jpg              \b\b\b\b 84%\b\b\b\b\b  OK \n",
            "Extracting  /content/Dataset/Datasets/Train/mercedes/15.jpg              \b\b\b\b 85%\b\b\b\b\b  OK \n",
            "Extracting  /content/Dataset/Datasets/Train/mercedes/16.jpg              \b\b\b\b 86%\b\b\b\b\b  OK \n",
            "Extracting  /content/Dataset/Datasets/Train/mercedes/17.jpg              \b\b\b\b 87%\b\b\b\b\b  OK \n",
            "Extracting  /content/Dataset/Datasets/Train/mercedes/18.jpg              \b\b\b\b 88%\b\b\b\b\b  OK \n",
            "Extracting  /content/Dataset/Datasets/Train/mercedes/19.jpg              \b\b\b\b 88%\b\b\b\b\b  OK \n",
            "Extracting  /content/Dataset/Datasets/Train/mercedes/2.jpg               \b\b\b\b 89%\b\b\b\b\b  OK \n",
            "Extracting  /content/Dataset/Datasets/Train/mercedes/20.jpg              \b\b\b\b 90%\b\b\b\b\b  OK \n",
            "Extracting  /content/Dataset/Datasets/Train/mercedes/21.jpg              \b\b\b\b 91%\b\b\b\b\b  OK \n",
            "Extracting  /content/Dataset/Datasets/Train/mercedes/22.jpg              \b\b\b\b 91%\b\b\b\b\b  OK \n",
            "Extracting  /content/Dataset/Datasets/Train/mercedes/23.jpg              \b\b\b\b 92%\b\b\b\b\b  OK \n",
            "Extracting  /content/Dataset/Datasets/Train/mercedes/24.jpg              \b\b\b\b 93%\b\b\b\b\b  OK \n",
            "Extracting  /content/Dataset/Datasets/Train/mercedes/25.jpg              \b\b\b\b 93%\b\b\b\b\b  OK \n",
            "Extracting  /content/Dataset/Datasets/Train/mercedes/3.jpg               \b\b\b\b 94%\b\b\b\b\b  OK \n",
            "Extracting  /content/Dataset/Datasets/Train/mercedes/4.jpg               \b\b\b\b 94%\b\b\b\b\b  OK \n",
            "Extracting  /content/Dataset/Datasets/Train/mercedes/5.jpg               \b\b\b\b 96%\b\b\b\b\b  OK \n",
            "Extracting  /content/Dataset/Datasets/Train/mercedes/6.jpg               \b\b\b\b 96%\b\b\b\b\b  OK \n",
            "Extracting  /content/Dataset/Datasets/Train/mercedes/7.jpg               \b\b\b\b 97%\b\b\b\b\b  OK \n",
            "Extracting  /content/Dataset/Datasets/Train/mercedes/8.jpf.jpg           \b\b\b\b 97%\b\b\b\b\b  OK \n",
            "Extracting  /content/Dataset/Datasets/Train/mercedes/9.jpg               \b\b\b\b 99%\b\b\b\b\b  OK \n",
            "All OK\n"
          ],
          "name": "stdout"
        }
      ]
    },
    {
      "cell_type": "code",
      "metadata": {
        "id": "wjFIQF37g-p2"
      },
      "source": [
        "IMAGE_SIZE = [224, 224]\r\n",
        "\r\n",
        "train_path = '/content/Dataset/Datasets/Train'\r\n",
        "valid_path = '/content/Dataset/Datasets/Test'"
      ],
      "execution_count": 2,
      "outputs": []
    },
    {
      "cell_type": "code",
      "metadata": {
        "id": "12kubkFtZgYb"
      },
      "source": [
        "import tensorflow as tf\r\n",
        "import numpy as np\r\n",
        "import matplotlib.pyplot as plt\r\n",
        "import keras\r\n",
        "from keras.layers import *\r\n",
        "from keras.models import *\r\n",
        "from keras.preprocessing import *\r\n",
        "from keras.applications import ResNet50\r\n",
        "from keras.applications.resnet50 import preprocess_input\r\n",
        "from keras.preprocessing import image\r\n",
        "from keras.preprocessing.image import ImageDataGenerator, load_img\r\n",
        "from keras.utils import to_categorical\r\n",
        "from glob import glob"
      ],
      "execution_count": 3,
      "outputs": []
    },
    {
      "cell_type": "code",
      "metadata": {
        "id": "IiLcyBVUcS9B",
        "colab": {
          "base_uri": "https://localhost:8080/"
        },
        "outputId": "a4684d9e-6bf5-4cad-e7d9-29f49877f34d"
      },
      "source": [
        "resnet = ResNet50(input_shape = IMAGE_SIZE + [3], weights = 'imagenet', include_top = False)\r\n"
      ],
      "execution_count": 4,
      "outputs": [
        {
          "output_type": "stream",
          "text": [
            "Downloading data from https://storage.googleapis.com/tensorflow/keras-applications/resnet/resnet50_weights_tf_dim_ordering_tf_kernels_notop.h5\n",
            "94773248/94765736 [==============================] - 1s 0us/step\n"
          ],
          "name": "stdout"
        }
      ]
    },
    {
      "cell_type": "code",
      "metadata": {
        "colab": {
          "base_uri": "https://localhost:8080/"
        },
        "id": "CQge1BsSi6Y2",
        "outputId": "b6dd7d0c-ac40-40c0-8d88-375d9aec4278"
      },
      "source": [
        "resnet.summary()"
      ],
      "execution_count": 5,
      "outputs": [
        {
          "output_type": "stream",
          "text": [
            "Model: \"resnet50\"\n",
            "__________________________________________________________________________________________________\n",
            "Layer (type)                    Output Shape         Param #     Connected to                     \n",
            "==================================================================================================\n",
            "input_1 (InputLayer)            [(None, 224, 224, 3) 0                                            \n",
            "__________________________________________________________________________________________________\n",
            "conv1_pad (ZeroPadding2D)       (None, 230, 230, 3)  0           input_1[0][0]                    \n",
            "__________________________________________________________________________________________________\n",
            "conv1_conv (Conv2D)             (None, 112, 112, 64) 9472        conv1_pad[0][0]                  \n",
            "__________________________________________________________________________________________________\n",
            "conv1_bn (BatchNormalization)   (None, 112, 112, 64) 256         conv1_conv[0][0]                 \n",
            "__________________________________________________________________________________________________\n",
            "conv1_relu (Activation)         (None, 112, 112, 64) 0           conv1_bn[0][0]                   \n",
            "__________________________________________________________________________________________________\n",
            "pool1_pad (ZeroPadding2D)       (None, 114, 114, 64) 0           conv1_relu[0][0]                 \n",
            "__________________________________________________________________________________________________\n",
            "pool1_pool (MaxPooling2D)       (None, 56, 56, 64)   0           pool1_pad[0][0]                  \n",
            "__________________________________________________________________________________________________\n",
            "conv2_block1_1_conv (Conv2D)    (None, 56, 56, 64)   4160        pool1_pool[0][0]                 \n",
            "__________________________________________________________________________________________________\n",
            "conv2_block1_1_bn (BatchNormali (None, 56, 56, 64)   256         conv2_block1_1_conv[0][0]        \n",
            "__________________________________________________________________________________________________\n",
            "conv2_block1_1_relu (Activation (None, 56, 56, 64)   0           conv2_block1_1_bn[0][0]          \n",
            "__________________________________________________________________________________________________\n",
            "conv2_block1_2_conv (Conv2D)    (None, 56, 56, 64)   36928       conv2_block1_1_relu[0][0]        \n",
            "__________________________________________________________________________________________________\n",
            "conv2_block1_2_bn (BatchNormali (None, 56, 56, 64)   256         conv2_block1_2_conv[0][0]        \n",
            "__________________________________________________________________________________________________\n",
            "conv2_block1_2_relu (Activation (None, 56, 56, 64)   0           conv2_block1_2_bn[0][0]          \n",
            "__________________________________________________________________________________________________\n",
            "conv2_block1_0_conv (Conv2D)    (None, 56, 56, 256)  16640       pool1_pool[0][0]                 \n",
            "__________________________________________________________________________________________________\n",
            "conv2_block1_3_conv (Conv2D)    (None, 56, 56, 256)  16640       conv2_block1_2_relu[0][0]        \n",
            "__________________________________________________________________________________________________\n",
            "conv2_block1_0_bn (BatchNormali (None, 56, 56, 256)  1024        conv2_block1_0_conv[0][0]        \n",
            "__________________________________________________________________________________________________\n",
            "conv2_block1_3_bn (BatchNormali (None, 56, 56, 256)  1024        conv2_block1_3_conv[0][0]        \n",
            "__________________________________________________________________________________________________\n",
            "conv2_block1_add (Add)          (None, 56, 56, 256)  0           conv2_block1_0_bn[0][0]          \n",
            "                                                                 conv2_block1_3_bn[0][0]          \n",
            "__________________________________________________________________________________________________\n",
            "conv2_block1_out (Activation)   (None, 56, 56, 256)  0           conv2_block1_add[0][0]           \n",
            "__________________________________________________________________________________________________\n",
            "conv2_block2_1_conv (Conv2D)    (None, 56, 56, 64)   16448       conv2_block1_out[0][0]           \n",
            "__________________________________________________________________________________________________\n",
            "conv2_block2_1_bn (BatchNormali (None, 56, 56, 64)   256         conv2_block2_1_conv[0][0]        \n",
            "__________________________________________________________________________________________________\n",
            "conv2_block2_1_relu (Activation (None, 56, 56, 64)   0           conv2_block2_1_bn[0][0]          \n",
            "__________________________________________________________________________________________________\n",
            "conv2_block2_2_conv (Conv2D)    (None, 56, 56, 64)   36928       conv2_block2_1_relu[0][0]        \n",
            "__________________________________________________________________________________________________\n",
            "conv2_block2_2_bn (BatchNormali (None, 56, 56, 64)   256         conv2_block2_2_conv[0][0]        \n",
            "__________________________________________________________________________________________________\n",
            "conv2_block2_2_relu (Activation (None, 56, 56, 64)   0           conv2_block2_2_bn[0][0]          \n",
            "__________________________________________________________________________________________________\n",
            "conv2_block2_3_conv (Conv2D)    (None, 56, 56, 256)  16640       conv2_block2_2_relu[0][0]        \n",
            "__________________________________________________________________________________________________\n",
            "conv2_block2_3_bn (BatchNormali (None, 56, 56, 256)  1024        conv2_block2_3_conv[0][0]        \n",
            "__________________________________________________________________________________________________\n",
            "conv2_block2_add (Add)          (None, 56, 56, 256)  0           conv2_block1_out[0][0]           \n",
            "                                                                 conv2_block2_3_bn[0][0]          \n",
            "__________________________________________________________________________________________________\n",
            "conv2_block2_out (Activation)   (None, 56, 56, 256)  0           conv2_block2_add[0][0]           \n",
            "__________________________________________________________________________________________________\n",
            "conv2_block3_1_conv (Conv2D)    (None, 56, 56, 64)   16448       conv2_block2_out[0][0]           \n",
            "__________________________________________________________________________________________________\n",
            "conv2_block3_1_bn (BatchNormali (None, 56, 56, 64)   256         conv2_block3_1_conv[0][0]        \n",
            "__________________________________________________________________________________________________\n",
            "conv2_block3_1_relu (Activation (None, 56, 56, 64)   0           conv2_block3_1_bn[0][0]          \n",
            "__________________________________________________________________________________________________\n",
            "conv2_block3_2_conv (Conv2D)    (None, 56, 56, 64)   36928       conv2_block3_1_relu[0][0]        \n",
            "__________________________________________________________________________________________________\n",
            "conv2_block3_2_bn (BatchNormali (None, 56, 56, 64)   256         conv2_block3_2_conv[0][0]        \n",
            "__________________________________________________________________________________________________\n",
            "conv2_block3_2_relu (Activation (None, 56, 56, 64)   0           conv2_block3_2_bn[0][0]          \n",
            "__________________________________________________________________________________________________\n",
            "conv2_block3_3_conv (Conv2D)    (None, 56, 56, 256)  16640       conv2_block3_2_relu[0][0]        \n",
            "__________________________________________________________________________________________________\n",
            "conv2_block3_3_bn (BatchNormali (None, 56, 56, 256)  1024        conv2_block3_3_conv[0][0]        \n",
            "__________________________________________________________________________________________________\n",
            "conv2_block3_add (Add)          (None, 56, 56, 256)  0           conv2_block2_out[0][0]           \n",
            "                                                                 conv2_block3_3_bn[0][0]          \n",
            "__________________________________________________________________________________________________\n",
            "conv2_block3_out (Activation)   (None, 56, 56, 256)  0           conv2_block3_add[0][0]           \n",
            "__________________________________________________________________________________________________\n",
            "conv3_block1_1_conv (Conv2D)    (None, 28, 28, 128)  32896       conv2_block3_out[0][0]           \n",
            "__________________________________________________________________________________________________\n",
            "conv3_block1_1_bn (BatchNormali (None, 28, 28, 128)  512         conv3_block1_1_conv[0][0]        \n",
            "__________________________________________________________________________________________________\n",
            "conv3_block1_1_relu (Activation (None, 28, 28, 128)  0           conv3_block1_1_bn[0][0]          \n",
            "__________________________________________________________________________________________________\n",
            "conv3_block1_2_conv (Conv2D)    (None, 28, 28, 128)  147584      conv3_block1_1_relu[0][0]        \n",
            "__________________________________________________________________________________________________\n",
            "conv3_block1_2_bn (BatchNormali (None, 28, 28, 128)  512         conv3_block1_2_conv[0][0]        \n",
            "__________________________________________________________________________________________________\n",
            "conv3_block1_2_relu (Activation (None, 28, 28, 128)  0           conv3_block1_2_bn[0][0]          \n",
            "__________________________________________________________________________________________________\n",
            "conv3_block1_0_conv (Conv2D)    (None, 28, 28, 512)  131584      conv2_block3_out[0][0]           \n",
            "__________________________________________________________________________________________________\n",
            "conv3_block1_3_conv (Conv2D)    (None, 28, 28, 512)  66048       conv3_block1_2_relu[0][0]        \n",
            "__________________________________________________________________________________________________\n",
            "conv3_block1_0_bn (BatchNormali (None, 28, 28, 512)  2048        conv3_block1_0_conv[0][0]        \n",
            "__________________________________________________________________________________________________\n",
            "conv3_block1_3_bn (BatchNormali (None, 28, 28, 512)  2048        conv3_block1_3_conv[0][0]        \n",
            "__________________________________________________________________________________________________\n",
            "conv3_block1_add (Add)          (None, 28, 28, 512)  0           conv3_block1_0_bn[0][0]          \n",
            "                                                                 conv3_block1_3_bn[0][0]          \n",
            "__________________________________________________________________________________________________\n",
            "conv3_block1_out (Activation)   (None, 28, 28, 512)  0           conv3_block1_add[0][0]           \n",
            "__________________________________________________________________________________________________\n",
            "conv3_block2_1_conv (Conv2D)    (None, 28, 28, 128)  65664       conv3_block1_out[0][0]           \n",
            "__________________________________________________________________________________________________\n",
            "conv3_block2_1_bn (BatchNormali (None, 28, 28, 128)  512         conv3_block2_1_conv[0][0]        \n",
            "__________________________________________________________________________________________________\n",
            "conv3_block2_1_relu (Activation (None, 28, 28, 128)  0           conv3_block2_1_bn[0][0]          \n",
            "__________________________________________________________________________________________________\n",
            "conv3_block2_2_conv (Conv2D)    (None, 28, 28, 128)  147584      conv3_block2_1_relu[0][0]        \n",
            "__________________________________________________________________________________________________\n",
            "conv3_block2_2_bn (BatchNormali (None, 28, 28, 128)  512         conv3_block2_2_conv[0][0]        \n",
            "__________________________________________________________________________________________________\n",
            "conv3_block2_2_relu (Activation (None, 28, 28, 128)  0           conv3_block2_2_bn[0][0]          \n",
            "__________________________________________________________________________________________________\n",
            "conv3_block2_3_conv (Conv2D)    (None, 28, 28, 512)  66048       conv3_block2_2_relu[0][0]        \n",
            "__________________________________________________________________________________________________\n",
            "conv3_block2_3_bn (BatchNormali (None, 28, 28, 512)  2048        conv3_block2_3_conv[0][0]        \n",
            "__________________________________________________________________________________________________\n",
            "conv3_block2_add (Add)          (None, 28, 28, 512)  0           conv3_block1_out[0][0]           \n",
            "                                                                 conv3_block2_3_bn[0][0]          \n",
            "__________________________________________________________________________________________________\n",
            "conv3_block2_out (Activation)   (None, 28, 28, 512)  0           conv3_block2_add[0][0]           \n",
            "__________________________________________________________________________________________________\n",
            "conv3_block3_1_conv (Conv2D)    (None, 28, 28, 128)  65664       conv3_block2_out[0][0]           \n",
            "__________________________________________________________________________________________________\n",
            "conv3_block3_1_bn (BatchNormali (None, 28, 28, 128)  512         conv3_block3_1_conv[0][0]        \n",
            "__________________________________________________________________________________________________\n",
            "conv3_block3_1_relu (Activation (None, 28, 28, 128)  0           conv3_block3_1_bn[0][0]          \n",
            "__________________________________________________________________________________________________\n",
            "conv3_block3_2_conv (Conv2D)    (None, 28, 28, 128)  147584      conv3_block3_1_relu[0][0]        \n",
            "__________________________________________________________________________________________________\n",
            "conv3_block3_2_bn (BatchNormali (None, 28, 28, 128)  512         conv3_block3_2_conv[0][0]        \n",
            "__________________________________________________________________________________________________\n",
            "conv3_block3_2_relu (Activation (None, 28, 28, 128)  0           conv3_block3_2_bn[0][0]          \n",
            "__________________________________________________________________________________________________\n",
            "conv3_block3_3_conv (Conv2D)    (None, 28, 28, 512)  66048       conv3_block3_2_relu[0][0]        \n",
            "__________________________________________________________________________________________________\n",
            "conv3_block3_3_bn (BatchNormali (None, 28, 28, 512)  2048        conv3_block3_3_conv[0][0]        \n",
            "__________________________________________________________________________________________________\n",
            "conv3_block3_add (Add)          (None, 28, 28, 512)  0           conv3_block2_out[0][0]           \n",
            "                                                                 conv3_block3_3_bn[0][0]          \n",
            "__________________________________________________________________________________________________\n",
            "conv3_block3_out (Activation)   (None, 28, 28, 512)  0           conv3_block3_add[0][0]           \n",
            "__________________________________________________________________________________________________\n",
            "conv3_block4_1_conv (Conv2D)    (None, 28, 28, 128)  65664       conv3_block3_out[0][0]           \n",
            "__________________________________________________________________________________________________\n",
            "conv3_block4_1_bn (BatchNormali (None, 28, 28, 128)  512         conv3_block4_1_conv[0][0]        \n",
            "__________________________________________________________________________________________________\n",
            "conv3_block4_1_relu (Activation (None, 28, 28, 128)  0           conv3_block4_1_bn[0][0]          \n",
            "__________________________________________________________________________________________________\n",
            "conv3_block4_2_conv (Conv2D)    (None, 28, 28, 128)  147584      conv3_block4_1_relu[0][0]        \n",
            "__________________________________________________________________________________________________\n",
            "conv3_block4_2_bn (BatchNormali (None, 28, 28, 128)  512         conv3_block4_2_conv[0][0]        \n",
            "__________________________________________________________________________________________________\n",
            "conv3_block4_2_relu (Activation (None, 28, 28, 128)  0           conv3_block4_2_bn[0][0]          \n",
            "__________________________________________________________________________________________________\n",
            "conv3_block4_3_conv (Conv2D)    (None, 28, 28, 512)  66048       conv3_block4_2_relu[0][0]        \n",
            "__________________________________________________________________________________________________\n",
            "conv3_block4_3_bn (BatchNormali (None, 28, 28, 512)  2048        conv3_block4_3_conv[0][0]        \n",
            "__________________________________________________________________________________________________\n",
            "conv3_block4_add (Add)          (None, 28, 28, 512)  0           conv3_block3_out[0][0]           \n",
            "                                                                 conv3_block4_3_bn[0][0]          \n",
            "__________________________________________________________________________________________________\n",
            "conv3_block4_out (Activation)   (None, 28, 28, 512)  0           conv3_block4_add[0][0]           \n",
            "__________________________________________________________________________________________________\n",
            "conv4_block1_1_conv (Conv2D)    (None, 14, 14, 256)  131328      conv3_block4_out[0][0]           \n",
            "__________________________________________________________________________________________________\n",
            "conv4_block1_1_bn (BatchNormali (None, 14, 14, 256)  1024        conv4_block1_1_conv[0][0]        \n",
            "__________________________________________________________________________________________________\n",
            "conv4_block1_1_relu (Activation (None, 14, 14, 256)  0           conv4_block1_1_bn[0][0]          \n",
            "__________________________________________________________________________________________________\n",
            "conv4_block1_2_conv (Conv2D)    (None, 14, 14, 256)  590080      conv4_block1_1_relu[0][0]        \n",
            "__________________________________________________________________________________________________\n",
            "conv4_block1_2_bn (BatchNormali (None, 14, 14, 256)  1024        conv4_block1_2_conv[0][0]        \n",
            "__________________________________________________________________________________________________\n",
            "conv4_block1_2_relu (Activation (None, 14, 14, 256)  0           conv4_block1_2_bn[0][0]          \n",
            "__________________________________________________________________________________________________\n",
            "conv4_block1_0_conv (Conv2D)    (None, 14, 14, 1024) 525312      conv3_block4_out[0][0]           \n",
            "__________________________________________________________________________________________________\n",
            "conv4_block1_3_conv (Conv2D)    (None, 14, 14, 1024) 263168      conv4_block1_2_relu[0][0]        \n",
            "__________________________________________________________________________________________________\n",
            "conv4_block1_0_bn (BatchNormali (None, 14, 14, 1024) 4096        conv4_block1_0_conv[0][0]        \n",
            "__________________________________________________________________________________________________\n",
            "conv4_block1_3_bn (BatchNormali (None, 14, 14, 1024) 4096        conv4_block1_3_conv[0][0]        \n",
            "__________________________________________________________________________________________________\n",
            "conv4_block1_add (Add)          (None, 14, 14, 1024) 0           conv4_block1_0_bn[0][0]          \n",
            "                                                                 conv4_block1_3_bn[0][0]          \n",
            "__________________________________________________________________________________________________\n",
            "conv4_block1_out (Activation)   (None, 14, 14, 1024) 0           conv4_block1_add[0][0]           \n",
            "__________________________________________________________________________________________________\n",
            "conv4_block2_1_conv (Conv2D)    (None, 14, 14, 256)  262400      conv4_block1_out[0][0]           \n",
            "__________________________________________________________________________________________________\n",
            "conv4_block2_1_bn (BatchNormali (None, 14, 14, 256)  1024        conv4_block2_1_conv[0][0]        \n",
            "__________________________________________________________________________________________________\n",
            "conv4_block2_1_relu (Activation (None, 14, 14, 256)  0           conv4_block2_1_bn[0][0]          \n",
            "__________________________________________________________________________________________________\n",
            "conv4_block2_2_conv (Conv2D)    (None, 14, 14, 256)  590080      conv4_block2_1_relu[0][0]        \n",
            "__________________________________________________________________________________________________\n",
            "conv4_block2_2_bn (BatchNormali (None, 14, 14, 256)  1024        conv4_block2_2_conv[0][0]        \n",
            "__________________________________________________________________________________________________\n",
            "conv4_block2_2_relu (Activation (None, 14, 14, 256)  0           conv4_block2_2_bn[0][0]          \n",
            "__________________________________________________________________________________________________\n",
            "conv4_block2_3_conv (Conv2D)    (None, 14, 14, 1024) 263168      conv4_block2_2_relu[0][0]        \n",
            "__________________________________________________________________________________________________\n",
            "conv4_block2_3_bn (BatchNormali (None, 14, 14, 1024) 4096        conv4_block2_3_conv[0][0]        \n",
            "__________________________________________________________________________________________________\n",
            "conv4_block2_add (Add)          (None, 14, 14, 1024) 0           conv4_block1_out[0][0]           \n",
            "                                                                 conv4_block2_3_bn[0][0]          \n",
            "__________________________________________________________________________________________________\n",
            "conv4_block2_out (Activation)   (None, 14, 14, 1024) 0           conv4_block2_add[0][0]           \n",
            "__________________________________________________________________________________________________\n",
            "conv4_block3_1_conv (Conv2D)    (None, 14, 14, 256)  262400      conv4_block2_out[0][0]           \n",
            "__________________________________________________________________________________________________\n",
            "conv4_block3_1_bn (BatchNormali (None, 14, 14, 256)  1024        conv4_block3_1_conv[0][0]        \n",
            "__________________________________________________________________________________________________\n",
            "conv4_block3_1_relu (Activation (None, 14, 14, 256)  0           conv4_block3_1_bn[0][0]          \n",
            "__________________________________________________________________________________________________\n",
            "conv4_block3_2_conv (Conv2D)    (None, 14, 14, 256)  590080      conv4_block3_1_relu[0][0]        \n",
            "__________________________________________________________________________________________________\n",
            "conv4_block3_2_bn (BatchNormali (None, 14, 14, 256)  1024        conv4_block3_2_conv[0][0]        \n",
            "__________________________________________________________________________________________________\n",
            "conv4_block3_2_relu (Activation (None, 14, 14, 256)  0           conv4_block3_2_bn[0][0]          \n",
            "__________________________________________________________________________________________________\n",
            "conv4_block3_3_conv (Conv2D)    (None, 14, 14, 1024) 263168      conv4_block3_2_relu[0][0]        \n",
            "__________________________________________________________________________________________________\n",
            "conv4_block3_3_bn (BatchNormali (None, 14, 14, 1024) 4096        conv4_block3_3_conv[0][0]        \n",
            "__________________________________________________________________________________________________\n",
            "conv4_block3_add (Add)          (None, 14, 14, 1024) 0           conv4_block2_out[0][0]           \n",
            "                                                                 conv4_block3_3_bn[0][0]          \n",
            "__________________________________________________________________________________________________\n",
            "conv4_block3_out (Activation)   (None, 14, 14, 1024) 0           conv4_block3_add[0][0]           \n",
            "__________________________________________________________________________________________________\n",
            "conv4_block4_1_conv (Conv2D)    (None, 14, 14, 256)  262400      conv4_block3_out[0][0]           \n",
            "__________________________________________________________________________________________________\n",
            "conv4_block4_1_bn (BatchNormali (None, 14, 14, 256)  1024        conv4_block4_1_conv[0][0]        \n",
            "__________________________________________________________________________________________________\n",
            "conv4_block4_1_relu (Activation (None, 14, 14, 256)  0           conv4_block4_1_bn[0][0]          \n",
            "__________________________________________________________________________________________________\n",
            "conv4_block4_2_conv (Conv2D)    (None, 14, 14, 256)  590080      conv4_block4_1_relu[0][0]        \n",
            "__________________________________________________________________________________________________\n",
            "conv4_block4_2_bn (BatchNormali (None, 14, 14, 256)  1024        conv4_block4_2_conv[0][0]        \n",
            "__________________________________________________________________________________________________\n",
            "conv4_block4_2_relu (Activation (None, 14, 14, 256)  0           conv4_block4_2_bn[0][0]          \n",
            "__________________________________________________________________________________________________\n",
            "conv4_block4_3_conv (Conv2D)    (None, 14, 14, 1024) 263168      conv4_block4_2_relu[0][0]        \n",
            "__________________________________________________________________________________________________\n",
            "conv4_block4_3_bn (BatchNormali (None, 14, 14, 1024) 4096        conv4_block4_3_conv[0][0]        \n",
            "__________________________________________________________________________________________________\n",
            "conv4_block4_add (Add)          (None, 14, 14, 1024) 0           conv4_block3_out[0][0]           \n",
            "                                                                 conv4_block4_3_bn[0][0]          \n",
            "__________________________________________________________________________________________________\n",
            "conv4_block4_out (Activation)   (None, 14, 14, 1024) 0           conv4_block4_add[0][0]           \n",
            "__________________________________________________________________________________________________\n",
            "conv4_block5_1_conv (Conv2D)    (None, 14, 14, 256)  262400      conv4_block4_out[0][0]           \n",
            "__________________________________________________________________________________________________\n",
            "conv4_block5_1_bn (BatchNormali (None, 14, 14, 256)  1024        conv4_block5_1_conv[0][0]        \n",
            "__________________________________________________________________________________________________\n",
            "conv4_block5_1_relu (Activation (None, 14, 14, 256)  0           conv4_block5_1_bn[0][0]          \n",
            "__________________________________________________________________________________________________\n",
            "conv4_block5_2_conv (Conv2D)    (None, 14, 14, 256)  590080      conv4_block5_1_relu[0][0]        \n",
            "__________________________________________________________________________________________________\n",
            "conv4_block5_2_bn (BatchNormali (None, 14, 14, 256)  1024        conv4_block5_2_conv[0][0]        \n",
            "__________________________________________________________________________________________________\n",
            "conv4_block5_2_relu (Activation (None, 14, 14, 256)  0           conv4_block5_2_bn[0][0]          \n",
            "__________________________________________________________________________________________________\n",
            "conv4_block5_3_conv (Conv2D)    (None, 14, 14, 1024) 263168      conv4_block5_2_relu[0][0]        \n",
            "__________________________________________________________________________________________________\n",
            "conv4_block5_3_bn (BatchNormali (None, 14, 14, 1024) 4096        conv4_block5_3_conv[0][0]        \n",
            "__________________________________________________________________________________________________\n",
            "conv4_block5_add (Add)          (None, 14, 14, 1024) 0           conv4_block4_out[0][0]           \n",
            "                                                                 conv4_block5_3_bn[0][0]          \n",
            "__________________________________________________________________________________________________\n",
            "conv4_block5_out (Activation)   (None, 14, 14, 1024) 0           conv4_block5_add[0][0]           \n",
            "__________________________________________________________________________________________________\n",
            "conv4_block6_1_conv (Conv2D)    (None, 14, 14, 256)  262400      conv4_block5_out[0][0]           \n",
            "__________________________________________________________________________________________________\n",
            "conv4_block6_1_bn (BatchNormali (None, 14, 14, 256)  1024        conv4_block6_1_conv[0][0]        \n",
            "__________________________________________________________________________________________________\n",
            "conv4_block6_1_relu (Activation (None, 14, 14, 256)  0           conv4_block6_1_bn[0][0]          \n",
            "__________________________________________________________________________________________________\n",
            "conv4_block6_2_conv (Conv2D)    (None, 14, 14, 256)  590080      conv4_block6_1_relu[0][0]        \n",
            "__________________________________________________________________________________________________\n",
            "conv4_block6_2_bn (BatchNormali (None, 14, 14, 256)  1024        conv4_block6_2_conv[0][0]        \n",
            "__________________________________________________________________________________________________\n",
            "conv4_block6_2_relu (Activation (None, 14, 14, 256)  0           conv4_block6_2_bn[0][0]          \n",
            "__________________________________________________________________________________________________\n",
            "conv4_block6_3_conv (Conv2D)    (None, 14, 14, 1024) 263168      conv4_block6_2_relu[0][0]        \n",
            "__________________________________________________________________________________________________\n",
            "conv4_block6_3_bn (BatchNormali (None, 14, 14, 1024) 4096        conv4_block6_3_conv[0][0]        \n",
            "__________________________________________________________________________________________________\n",
            "conv4_block6_add (Add)          (None, 14, 14, 1024) 0           conv4_block5_out[0][0]           \n",
            "                                                                 conv4_block6_3_bn[0][0]          \n",
            "__________________________________________________________________________________________________\n",
            "conv4_block6_out (Activation)   (None, 14, 14, 1024) 0           conv4_block6_add[0][0]           \n",
            "__________________________________________________________________________________________________\n",
            "conv5_block1_1_conv (Conv2D)    (None, 7, 7, 512)    524800      conv4_block6_out[0][0]           \n",
            "__________________________________________________________________________________________________\n",
            "conv5_block1_1_bn (BatchNormali (None, 7, 7, 512)    2048        conv5_block1_1_conv[0][0]        \n",
            "__________________________________________________________________________________________________\n",
            "conv5_block1_1_relu (Activation (None, 7, 7, 512)    0           conv5_block1_1_bn[0][0]          \n",
            "__________________________________________________________________________________________________\n",
            "conv5_block1_2_conv (Conv2D)    (None, 7, 7, 512)    2359808     conv5_block1_1_relu[0][0]        \n",
            "__________________________________________________________________________________________________\n",
            "conv5_block1_2_bn (BatchNormali (None, 7, 7, 512)    2048        conv5_block1_2_conv[0][0]        \n",
            "__________________________________________________________________________________________________\n",
            "conv5_block1_2_relu (Activation (None, 7, 7, 512)    0           conv5_block1_2_bn[0][0]          \n",
            "__________________________________________________________________________________________________\n",
            "conv5_block1_0_conv (Conv2D)    (None, 7, 7, 2048)   2099200     conv4_block6_out[0][0]           \n",
            "__________________________________________________________________________________________________\n",
            "conv5_block1_3_conv (Conv2D)    (None, 7, 7, 2048)   1050624     conv5_block1_2_relu[0][0]        \n",
            "__________________________________________________________________________________________________\n",
            "conv5_block1_0_bn (BatchNormali (None, 7, 7, 2048)   8192        conv5_block1_0_conv[0][0]        \n",
            "__________________________________________________________________________________________________\n",
            "conv5_block1_3_bn (BatchNormali (None, 7, 7, 2048)   8192        conv5_block1_3_conv[0][0]        \n",
            "__________________________________________________________________________________________________\n",
            "conv5_block1_add (Add)          (None, 7, 7, 2048)   0           conv5_block1_0_bn[0][0]          \n",
            "                                                                 conv5_block1_3_bn[0][0]          \n",
            "__________________________________________________________________________________________________\n",
            "conv5_block1_out (Activation)   (None, 7, 7, 2048)   0           conv5_block1_add[0][0]           \n",
            "__________________________________________________________________________________________________\n",
            "conv5_block2_1_conv (Conv2D)    (None, 7, 7, 512)    1049088     conv5_block1_out[0][0]           \n",
            "__________________________________________________________________________________________________\n",
            "conv5_block2_1_bn (BatchNormali (None, 7, 7, 512)    2048        conv5_block2_1_conv[0][0]        \n",
            "__________________________________________________________________________________________________\n",
            "conv5_block2_1_relu (Activation (None, 7, 7, 512)    0           conv5_block2_1_bn[0][0]          \n",
            "__________________________________________________________________________________________________\n",
            "conv5_block2_2_conv (Conv2D)    (None, 7, 7, 512)    2359808     conv5_block2_1_relu[0][0]        \n",
            "__________________________________________________________________________________________________\n",
            "conv5_block2_2_bn (BatchNormali (None, 7, 7, 512)    2048        conv5_block2_2_conv[0][0]        \n",
            "__________________________________________________________________________________________________\n",
            "conv5_block2_2_relu (Activation (None, 7, 7, 512)    0           conv5_block2_2_bn[0][0]          \n",
            "__________________________________________________________________________________________________\n",
            "conv5_block2_3_conv (Conv2D)    (None, 7, 7, 2048)   1050624     conv5_block2_2_relu[0][0]        \n",
            "__________________________________________________________________________________________________\n",
            "conv5_block2_3_bn (BatchNormali (None, 7, 7, 2048)   8192        conv5_block2_3_conv[0][0]        \n",
            "__________________________________________________________________________________________________\n",
            "conv5_block2_add (Add)          (None, 7, 7, 2048)   0           conv5_block1_out[0][0]           \n",
            "                                                                 conv5_block2_3_bn[0][0]          \n",
            "__________________________________________________________________________________________________\n",
            "conv5_block2_out (Activation)   (None, 7, 7, 2048)   0           conv5_block2_add[0][0]           \n",
            "__________________________________________________________________________________________________\n",
            "conv5_block3_1_conv (Conv2D)    (None, 7, 7, 512)    1049088     conv5_block2_out[0][0]           \n",
            "__________________________________________________________________________________________________\n",
            "conv5_block3_1_bn (BatchNormali (None, 7, 7, 512)    2048        conv5_block3_1_conv[0][0]        \n",
            "__________________________________________________________________________________________________\n",
            "conv5_block3_1_relu (Activation (None, 7, 7, 512)    0           conv5_block3_1_bn[0][0]          \n",
            "__________________________________________________________________________________________________\n",
            "conv5_block3_2_conv (Conv2D)    (None, 7, 7, 512)    2359808     conv5_block3_1_relu[0][0]        \n",
            "__________________________________________________________________________________________________\n",
            "conv5_block3_2_bn (BatchNormali (None, 7, 7, 512)    2048        conv5_block3_2_conv[0][0]        \n",
            "__________________________________________________________________________________________________\n",
            "conv5_block3_2_relu (Activation (None, 7, 7, 512)    0           conv5_block3_2_bn[0][0]          \n",
            "__________________________________________________________________________________________________\n",
            "conv5_block3_3_conv (Conv2D)    (None, 7, 7, 2048)   1050624     conv5_block3_2_relu[0][0]        \n",
            "__________________________________________________________________________________________________\n",
            "conv5_block3_3_bn (BatchNormali (None, 7, 7, 2048)   8192        conv5_block3_3_conv[0][0]        \n",
            "__________________________________________________________________________________________________\n",
            "conv5_block3_add (Add)          (None, 7, 7, 2048)   0           conv5_block2_out[0][0]           \n",
            "                                                                 conv5_block3_3_bn[0][0]          \n",
            "__________________________________________________________________________________________________\n",
            "conv5_block3_out (Activation)   (None, 7, 7, 2048)   0           conv5_block3_add[0][0]           \n",
            "==================================================================================================\n",
            "Total params: 23,587,712\n",
            "Trainable params: 23,534,592\n",
            "Non-trainable params: 53,120\n",
            "__________________________________________________________________________________________________\n"
          ],
          "name": "stdout"
        }
      ]
    },
    {
      "cell_type": "code",
      "metadata": {
        "id": "EiKtTRYSjo8j"
      },
      "source": [
        "for layer in resnet.layers:\r\n",
        "  layer.trainable = False"
      ],
      "execution_count": 6,
      "outputs": []
    },
    {
      "cell_type": "code",
      "metadata": {
        "id": "cDt3GXopj-g2"
      },
      "source": [
        "folders = glob('/content/Dataset/Datasets/Train/*')"
      ],
      "execution_count": 7,
      "outputs": []
    },
    {
      "cell_type": "code",
      "metadata": {
        "colab": {
          "base_uri": "https://localhost:8080/"
        },
        "id": "k_RnOg6wkO9F",
        "outputId": "13706544-80e7-4ed6-95db-59350ee63bfc"
      },
      "source": [
        "len(folders)"
      ],
      "execution_count": 8,
      "outputs": [
        {
          "output_type": "execute_result",
          "data": {
            "text/plain": [
              "3"
            ]
          },
          "metadata": {
            "tags": []
          },
          "execution_count": 8
        }
      ]
    },
    {
      "cell_type": "code",
      "metadata": {
        "id": "4fFhxcKYkQZR"
      },
      "source": [
        "x = Flatten()(resnet.output)"
      ],
      "execution_count": 9,
      "outputs": []
    },
    {
      "cell_type": "code",
      "metadata": {
        "id": "kK901LLAka4E"
      },
      "source": [
        "prediction = Dense(len(folders), activation = 'softmax')(x)\r\n",
        "\r\n",
        "model = Model(resnet.input, prediction)"
      ],
      "execution_count": 10,
      "outputs": []
    },
    {
      "cell_type": "code",
      "metadata": {
        "colab": {
          "base_uri": "https://localhost:8080/"
        },
        "id": "mMrFNE1Tkwsz",
        "outputId": "0e7f4196-fc30-467e-ed34-6fde3a926bdd"
      },
      "source": [
        "model.summary()"
      ],
      "execution_count": 11,
      "outputs": [
        {
          "output_type": "stream",
          "text": [
            "Model: \"model\"\n",
            "__________________________________________________________________________________________________\n",
            "Layer (type)                    Output Shape         Param #     Connected to                     \n",
            "==================================================================================================\n",
            "input_1 (InputLayer)            [(None, 224, 224, 3) 0                                            \n",
            "__________________________________________________________________________________________________\n",
            "conv1_pad (ZeroPadding2D)       (None, 230, 230, 3)  0           input_1[0][0]                    \n",
            "__________________________________________________________________________________________________\n",
            "conv1_conv (Conv2D)             (None, 112, 112, 64) 9472        conv1_pad[0][0]                  \n",
            "__________________________________________________________________________________________________\n",
            "conv1_bn (BatchNormalization)   (None, 112, 112, 64) 256         conv1_conv[0][0]                 \n",
            "__________________________________________________________________________________________________\n",
            "conv1_relu (Activation)         (None, 112, 112, 64) 0           conv1_bn[0][0]                   \n",
            "__________________________________________________________________________________________________\n",
            "pool1_pad (ZeroPadding2D)       (None, 114, 114, 64) 0           conv1_relu[0][0]                 \n",
            "__________________________________________________________________________________________________\n",
            "pool1_pool (MaxPooling2D)       (None, 56, 56, 64)   0           pool1_pad[0][0]                  \n",
            "__________________________________________________________________________________________________\n",
            "conv2_block1_1_conv (Conv2D)    (None, 56, 56, 64)   4160        pool1_pool[0][0]                 \n",
            "__________________________________________________________________________________________________\n",
            "conv2_block1_1_bn (BatchNormali (None, 56, 56, 64)   256         conv2_block1_1_conv[0][0]        \n",
            "__________________________________________________________________________________________________\n",
            "conv2_block1_1_relu (Activation (None, 56, 56, 64)   0           conv2_block1_1_bn[0][0]          \n",
            "__________________________________________________________________________________________________\n",
            "conv2_block1_2_conv (Conv2D)    (None, 56, 56, 64)   36928       conv2_block1_1_relu[0][0]        \n",
            "__________________________________________________________________________________________________\n",
            "conv2_block1_2_bn (BatchNormali (None, 56, 56, 64)   256         conv2_block1_2_conv[0][0]        \n",
            "__________________________________________________________________________________________________\n",
            "conv2_block1_2_relu (Activation (None, 56, 56, 64)   0           conv2_block1_2_bn[0][0]          \n",
            "__________________________________________________________________________________________________\n",
            "conv2_block1_0_conv (Conv2D)    (None, 56, 56, 256)  16640       pool1_pool[0][0]                 \n",
            "__________________________________________________________________________________________________\n",
            "conv2_block1_3_conv (Conv2D)    (None, 56, 56, 256)  16640       conv2_block1_2_relu[0][0]        \n",
            "__________________________________________________________________________________________________\n",
            "conv2_block1_0_bn (BatchNormali (None, 56, 56, 256)  1024        conv2_block1_0_conv[0][0]        \n",
            "__________________________________________________________________________________________________\n",
            "conv2_block1_3_bn (BatchNormali (None, 56, 56, 256)  1024        conv2_block1_3_conv[0][0]        \n",
            "__________________________________________________________________________________________________\n",
            "conv2_block1_add (Add)          (None, 56, 56, 256)  0           conv2_block1_0_bn[0][0]          \n",
            "                                                                 conv2_block1_3_bn[0][0]          \n",
            "__________________________________________________________________________________________________\n",
            "conv2_block1_out (Activation)   (None, 56, 56, 256)  0           conv2_block1_add[0][0]           \n",
            "__________________________________________________________________________________________________\n",
            "conv2_block2_1_conv (Conv2D)    (None, 56, 56, 64)   16448       conv2_block1_out[0][0]           \n",
            "__________________________________________________________________________________________________\n",
            "conv2_block2_1_bn (BatchNormali (None, 56, 56, 64)   256         conv2_block2_1_conv[0][0]        \n",
            "__________________________________________________________________________________________________\n",
            "conv2_block2_1_relu (Activation (None, 56, 56, 64)   0           conv2_block2_1_bn[0][0]          \n",
            "__________________________________________________________________________________________________\n",
            "conv2_block2_2_conv (Conv2D)    (None, 56, 56, 64)   36928       conv2_block2_1_relu[0][0]        \n",
            "__________________________________________________________________________________________________\n",
            "conv2_block2_2_bn (BatchNormali (None, 56, 56, 64)   256         conv2_block2_2_conv[0][0]        \n",
            "__________________________________________________________________________________________________\n",
            "conv2_block2_2_relu (Activation (None, 56, 56, 64)   0           conv2_block2_2_bn[0][0]          \n",
            "__________________________________________________________________________________________________\n",
            "conv2_block2_3_conv (Conv2D)    (None, 56, 56, 256)  16640       conv2_block2_2_relu[0][0]        \n",
            "__________________________________________________________________________________________________\n",
            "conv2_block2_3_bn (BatchNormali (None, 56, 56, 256)  1024        conv2_block2_3_conv[0][0]        \n",
            "__________________________________________________________________________________________________\n",
            "conv2_block2_add (Add)          (None, 56, 56, 256)  0           conv2_block1_out[0][0]           \n",
            "                                                                 conv2_block2_3_bn[0][0]          \n",
            "__________________________________________________________________________________________________\n",
            "conv2_block2_out (Activation)   (None, 56, 56, 256)  0           conv2_block2_add[0][0]           \n",
            "__________________________________________________________________________________________________\n",
            "conv2_block3_1_conv (Conv2D)    (None, 56, 56, 64)   16448       conv2_block2_out[0][0]           \n",
            "__________________________________________________________________________________________________\n",
            "conv2_block3_1_bn (BatchNormali (None, 56, 56, 64)   256         conv2_block3_1_conv[0][0]        \n",
            "__________________________________________________________________________________________________\n",
            "conv2_block3_1_relu (Activation (None, 56, 56, 64)   0           conv2_block3_1_bn[0][0]          \n",
            "__________________________________________________________________________________________________\n",
            "conv2_block3_2_conv (Conv2D)    (None, 56, 56, 64)   36928       conv2_block3_1_relu[0][0]        \n",
            "__________________________________________________________________________________________________\n",
            "conv2_block3_2_bn (BatchNormali (None, 56, 56, 64)   256         conv2_block3_2_conv[0][0]        \n",
            "__________________________________________________________________________________________________\n",
            "conv2_block3_2_relu (Activation (None, 56, 56, 64)   0           conv2_block3_2_bn[0][0]          \n",
            "__________________________________________________________________________________________________\n",
            "conv2_block3_3_conv (Conv2D)    (None, 56, 56, 256)  16640       conv2_block3_2_relu[0][0]        \n",
            "__________________________________________________________________________________________________\n",
            "conv2_block3_3_bn (BatchNormali (None, 56, 56, 256)  1024        conv2_block3_3_conv[0][0]        \n",
            "__________________________________________________________________________________________________\n",
            "conv2_block3_add (Add)          (None, 56, 56, 256)  0           conv2_block2_out[0][0]           \n",
            "                                                                 conv2_block3_3_bn[0][0]          \n",
            "__________________________________________________________________________________________________\n",
            "conv2_block3_out (Activation)   (None, 56, 56, 256)  0           conv2_block3_add[0][0]           \n",
            "__________________________________________________________________________________________________\n",
            "conv3_block1_1_conv (Conv2D)    (None, 28, 28, 128)  32896       conv2_block3_out[0][0]           \n",
            "__________________________________________________________________________________________________\n",
            "conv3_block1_1_bn (BatchNormali (None, 28, 28, 128)  512         conv3_block1_1_conv[0][0]        \n",
            "__________________________________________________________________________________________________\n",
            "conv3_block1_1_relu (Activation (None, 28, 28, 128)  0           conv3_block1_1_bn[0][0]          \n",
            "__________________________________________________________________________________________________\n",
            "conv3_block1_2_conv (Conv2D)    (None, 28, 28, 128)  147584      conv3_block1_1_relu[0][0]        \n",
            "__________________________________________________________________________________________________\n",
            "conv3_block1_2_bn (BatchNormali (None, 28, 28, 128)  512         conv3_block1_2_conv[0][0]        \n",
            "__________________________________________________________________________________________________\n",
            "conv3_block1_2_relu (Activation (None, 28, 28, 128)  0           conv3_block1_2_bn[0][0]          \n",
            "__________________________________________________________________________________________________\n",
            "conv3_block1_0_conv (Conv2D)    (None, 28, 28, 512)  131584      conv2_block3_out[0][0]           \n",
            "__________________________________________________________________________________________________\n",
            "conv3_block1_3_conv (Conv2D)    (None, 28, 28, 512)  66048       conv3_block1_2_relu[0][0]        \n",
            "__________________________________________________________________________________________________\n",
            "conv3_block1_0_bn (BatchNormali (None, 28, 28, 512)  2048        conv3_block1_0_conv[0][0]        \n",
            "__________________________________________________________________________________________________\n",
            "conv3_block1_3_bn (BatchNormali (None, 28, 28, 512)  2048        conv3_block1_3_conv[0][0]        \n",
            "__________________________________________________________________________________________________\n",
            "conv3_block1_add (Add)          (None, 28, 28, 512)  0           conv3_block1_0_bn[0][0]          \n",
            "                                                                 conv3_block1_3_bn[0][0]          \n",
            "__________________________________________________________________________________________________\n",
            "conv3_block1_out (Activation)   (None, 28, 28, 512)  0           conv3_block1_add[0][0]           \n",
            "__________________________________________________________________________________________________\n",
            "conv3_block2_1_conv (Conv2D)    (None, 28, 28, 128)  65664       conv3_block1_out[0][0]           \n",
            "__________________________________________________________________________________________________\n",
            "conv3_block2_1_bn (BatchNormali (None, 28, 28, 128)  512         conv3_block2_1_conv[0][0]        \n",
            "__________________________________________________________________________________________________\n",
            "conv3_block2_1_relu (Activation (None, 28, 28, 128)  0           conv3_block2_1_bn[0][0]          \n",
            "__________________________________________________________________________________________________\n",
            "conv3_block2_2_conv (Conv2D)    (None, 28, 28, 128)  147584      conv3_block2_1_relu[0][0]        \n",
            "__________________________________________________________________________________________________\n",
            "conv3_block2_2_bn (BatchNormali (None, 28, 28, 128)  512         conv3_block2_2_conv[0][0]        \n",
            "__________________________________________________________________________________________________\n",
            "conv3_block2_2_relu (Activation (None, 28, 28, 128)  0           conv3_block2_2_bn[0][0]          \n",
            "__________________________________________________________________________________________________\n",
            "conv3_block2_3_conv (Conv2D)    (None, 28, 28, 512)  66048       conv3_block2_2_relu[0][0]        \n",
            "__________________________________________________________________________________________________\n",
            "conv3_block2_3_bn (BatchNormali (None, 28, 28, 512)  2048        conv3_block2_3_conv[0][0]        \n",
            "__________________________________________________________________________________________________\n",
            "conv3_block2_add (Add)          (None, 28, 28, 512)  0           conv3_block1_out[0][0]           \n",
            "                                                                 conv3_block2_3_bn[0][0]          \n",
            "__________________________________________________________________________________________________\n",
            "conv3_block2_out (Activation)   (None, 28, 28, 512)  0           conv3_block2_add[0][0]           \n",
            "__________________________________________________________________________________________________\n",
            "conv3_block3_1_conv (Conv2D)    (None, 28, 28, 128)  65664       conv3_block2_out[0][0]           \n",
            "__________________________________________________________________________________________________\n",
            "conv3_block3_1_bn (BatchNormali (None, 28, 28, 128)  512         conv3_block3_1_conv[0][0]        \n",
            "__________________________________________________________________________________________________\n",
            "conv3_block3_1_relu (Activation (None, 28, 28, 128)  0           conv3_block3_1_bn[0][0]          \n",
            "__________________________________________________________________________________________________\n",
            "conv3_block3_2_conv (Conv2D)    (None, 28, 28, 128)  147584      conv3_block3_1_relu[0][0]        \n",
            "__________________________________________________________________________________________________\n",
            "conv3_block3_2_bn (BatchNormali (None, 28, 28, 128)  512         conv3_block3_2_conv[0][0]        \n",
            "__________________________________________________________________________________________________\n",
            "conv3_block3_2_relu (Activation (None, 28, 28, 128)  0           conv3_block3_2_bn[0][0]          \n",
            "__________________________________________________________________________________________________\n",
            "conv3_block3_3_conv (Conv2D)    (None, 28, 28, 512)  66048       conv3_block3_2_relu[0][0]        \n",
            "__________________________________________________________________________________________________\n",
            "conv3_block3_3_bn (BatchNormali (None, 28, 28, 512)  2048        conv3_block3_3_conv[0][0]        \n",
            "__________________________________________________________________________________________________\n",
            "conv3_block3_add (Add)          (None, 28, 28, 512)  0           conv3_block2_out[0][0]           \n",
            "                                                                 conv3_block3_3_bn[0][0]          \n",
            "__________________________________________________________________________________________________\n",
            "conv3_block3_out (Activation)   (None, 28, 28, 512)  0           conv3_block3_add[0][0]           \n",
            "__________________________________________________________________________________________________\n",
            "conv3_block4_1_conv (Conv2D)    (None, 28, 28, 128)  65664       conv3_block3_out[0][0]           \n",
            "__________________________________________________________________________________________________\n",
            "conv3_block4_1_bn (BatchNormali (None, 28, 28, 128)  512         conv3_block4_1_conv[0][0]        \n",
            "__________________________________________________________________________________________________\n",
            "conv3_block4_1_relu (Activation (None, 28, 28, 128)  0           conv3_block4_1_bn[0][0]          \n",
            "__________________________________________________________________________________________________\n",
            "conv3_block4_2_conv (Conv2D)    (None, 28, 28, 128)  147584      conv3_block4_1_relu[0][0]        \n",
            "__________________________________________________________________________________________________\n",
            "conv3_block4_2_bn (BatchNormali (None, 28, 28, 128)  512         conv3_block4_2_conv[0][0]        \n",
            "__________________________________________________________________________________________________\n",
            "conv3_block4_2_relu (Activation (None, 28, 28, 128)  0           conv3_block4_2_bn[0][0]          \n",
            "__________________________________________________________________________________________________\n",
            "conv3_block4_3_conv (Conv2D)    (None, 28, 28, 512)  66048       conv3_block4_2_relu[0][0]        \n",
            "__________________________________________________________________________________________________\n",
            "conv3_block4_3_bn (BatchNormali (None, 28, 28, 512)  2048        conv3_block4_3_conv[0][0]        \n",
            "__________________________________________________________________________________________________\n",
            "conv3_block4_add (Add)          (None, 28, 28, 512)  0           conv3_block3_out[0][0]           \n",
            "                                                                 conv3_block4_3_bn[0][0]          \n",
            "__________________________________________________________________________________________________\n",
            "conv3_block4_out (Activation)   (None, 28, 28, 512)  0           conv3_block4_add[0][0]           \n",
            "__________________________________________________________________________________________________\n",
            "conv4_block1_1_conv (Conv2D)    (None, 14, 14, 256)  131328      conv3_block4_out[0][0]           \n",
            "__________________________________________________________________________________________________\n",
            "conv4_block1_1_bn (BatchNormali (None, 14, 14, 256)  1024        conv4_block1_1_conv[0][0]        \n",
            "__________________________________________________________________________________________________\n",
            "conv4_block1_1_relu (Activation (None, 14, 14, 256)  0           conv4_block1_1_bn[0][0]          \n",
            "__________________________________________________________________________________________________\n",
            "conv4_block1_2_conv (Conv2D)    (None, 14, 14, 256)  590080      conv4_block1_1_relu[0][0]        \n",
            "__________________________________________________________________________________________________\n",
            "conv4_block1_2_bn (BatchNormali (None, 14, 14, 256)  1024        conv4_block1_2_conv[0][0]        \n",
            "__________________________________________________________________________________________________\n",
            "conv4_block1_2_relu (Activation (None, 14, 14, 256)  0           conv4_block1_2_bn[0][0]          \n",
            "__________________________________________________________________________________________________\n",
            "conv4_block1_0_conv (Conv2D)    (None, 14, 14, 1024) 525312      conv3_block4_out[0][0]           \n",
            "__________________________________________________________________________________________________\n",
            "conv4_block1_3_conv (Conv2D)    (None, 14, 14, 1024) 263168      conv4_block1_2_relu[0][0]        \n",
            "__________________________________________________________________________________________________\n",
            "conv4_block1_0_bn (BatchNormali (None, 14, 14, 1024) 4096        conv4_block1_0_conv[0][0]        \n",
            "__________________________________________________________________________________________________\n",
            "conv4_block1_3_bn (BatchNormali (None, 14, 14, 1024) 4096        conv4_block1_3_conv[0][0]        \n",
            "__________________________________________________________________________________________________\n",
            "conv4_block1_add (Add)          (None, 14, 14, 1024) 0           conv4_block1_0_bn[0][0]          \n",
            "                                                                 conv4_block1_3_bn[0][0]          \n",
            "__________________________________________________________________________________________________\n",
            "conv4_block1_out (Activation)   (None, 14, 14, 1024) 0           conv4_block1_add[0][0]           \n",
            "__________________________________________________________________________________________________\n",
            "conv4_block2_1_conv (Conv2D)    (None, 14, 14, 256)  262400      conv4_block1_out[0][0]           \n",
            "__________________________________________________________________________________________________\n",
            "conv4_block2_1_bn (BatchNormali (None, 14, 14, 256)  1024        conv4_block2_1_conv[0][0]        \n",
            "__________________________________________________________________________________________________\n",
            "conv4_block2_1_relu (Activation (None, 14, 14, 256)  0           conv4_block2_1_bn[0][0]          \n",
            "__________________________________________________________________________________________________\n",
            "conv4_block2_2_conv (Conv2D)    (None, 14, 14, 256)  590080      conv4_block2_1_relu[0][0]        \n",
            "__________________________________________________________________________________________________\n",
            "conv4_block2_2_bn (BatchNormali (None, 14, 14, 256)  1024        conv4_block2_2_conv[0][0]        \n",
            "__________________________________________________________________________________________________\n",
            "conv4_block2_2_relu (Activation (None, 14, 14, 256)  0           conv4_block2_2_bn[0][0]          \n",
            "__________________________________________________________________________________________________\n",
            "conv4_block2_3_conv (Conv2D)    (None, 14, 14, 1024) 263168      conv4_block2_2_relu[0][0]        \n",
            "__________________________________________________________________________________________________\n",
            "conv4_block2_3_bn (BatchNormali (None, 14, 14, 1024) 4096        conv4_block2_3_conv[0][0]        \n",
            "__________________________________________________________________________________________________\n",
            "conv4_block2_add (Add)          (None, 14, 14, 1024) 0           conv4_block1_out[0][0]           \n",
            "                                                                 conv4_block2_3_bn[0][0]          \n",
            "__________________________________________________________________________________________________\n",
            "conv4_block2_out (Activation)   (None, 14, 14, 1024) 0           conv4_block2_add[0][0]           \n",
            "__________________________________________________________________________________________________\n",
            "conv4_block3_1_conv (Conv2D)    (None, 14, 14, 256)  262400      conv4_block2_out[0][0]           \n",
            "__________________________________________________________________________________________________\n",
            "conv4_block3_1_bn (BatchNormali (None, 14, 14, 256)  1024        conv4_block3_1_conv[0][0]        \n",
            "__________________________________________________________________________________________________\n",
            "conv4_block3_1_relu (Activation (None, 14, 14, 256)  0           conv4_block3_1_bn[0][0]          \n",
            "__________________________________________________________________________________________________\n",
            "conv4_block3_2_conv (Conv2D)    (None, 14, 14, 256)  590080      conv4_block3_1_relu[0][0]        \n",
            "__________________________________________________________________________________________________\n",
            "conv4_block3_2_bn (BatchNormali (None, 14, 14, 256)  1024        conv4_block3_2_conv[0][0]        \n",
            "__________________________________________________________________________________________________\n",
            "conv4_block3_2_relu (Activation (None, 14, 14, 256)  0           conv4_block3_2_bn[0][0]          \n",
            "__________________________________________________________________________________________________\n",
            "conv4_block3_3_conv (Conv2D)    (None, 14, 14, 1024) 263168      conv4_block3_2_relu[0][0]        \n",
            "__________________________________________________________________________________________________\n",
            "conv4_block3_3_bn (BatchNormali (None, 14, 14, 1024) 4096        conv4_block3_3_conv[0][0]        \n",
            "__________________________________________________________________________________________________\n",
            "conv4_block3_add (Add)          (None, 14, 14, 1024) 0           conv4_block2_out[0][0]           \n",
            "                                                                 conv4_block3_3_bn[0][0]          \n",
            "__________________________________________________________________________________________________\n",
            "conv4_block3_out (Activation)   (None, 14, 14, 1024) 0           conv4_block3_add[0][0]           \n",
            "__________________________________________________________________________________________________\n",
            "conv4_block4_1_conv (Conv2D)    (None, 14, 14, 256)  262400      conv4_block3_out[0][0]           \n",
            "__________________________________________________________________________________________________\n",
            "conv4_block4_1_bn (BatchNormali (None, 14, 14, 256)  1024        conv4_block4_1_conv[0][0]        \n",
            "__________________________________________________________________________________________________\n",
            "conv4_block4_1_relu (Activation (None, 14, 14, 256)  0           conv4_block4_1_bn[0][0]          \n",
            "__________________________________________________________________________________________________\n",
            "conv4_block4_2_conv (Conv2D)    (None, 14, 14, 256)  590080      conv4_block4_1_relu[0][0]        \n",
            "__________________________________________________________________________________________________\n",
            "conv4_block4_2_bn (BatchNormali (None, 14, 14, 256)  1024        conv4_block4_2_conv[0][0]        \n",
            "__________________________________________________________________________________________________\n",
            "conv4_block4_2_relu (Activation (None, 14, 14, 256)  0           conv4_block4_2_bn[0][0]          \n",
            "__________________________________________________________________________________________________\n",
            "conv4_block4_3_conv (Conv2D)    (None, 14, 14, 1024) 263168      conv4_block4_2_relu[0][0]        \n",
            "__________________________________________________________________________________________________\n",
            "conv4_block4_3_bn (BatchNormali (None, 14, 14, 1024) 4096        conv4_block4_3_conv[0][0]        \n",
            "__________________________________________________________________________________________________\n",
            "conv4_block4_add (Add)          (None, 14, 14, 1024) 0           conv4_block3_out[0][0]           \n",
            "                                                                 conv4_block4_3_bn[0][0]          \n",
            "__________________________________________________________________________________________________\n",
            "conv4_block4_out (Activation)   (None, 14, 14, 1024) 0           conv4_block4_add[0][0]           \n",
            "__________________________________________________________________________________________________\n",
            "conv4_block5_1_conv (Conv2D)    (None, 14, 14, 256)  262400      conv4_block4_out[0][0]           \n",
            "__________________________________________________________________________________________________\n",
            "conv4_block5_1_bn (BatchNormali (None, 14, 14, 256)  1024        conv4_block5_1_conv[0][0]        \n",
            "__________________________________________________________________________________________________\n",
            "conv4_block5_1_relu (Activation (None, 14, 14, 256)  0           conv4_block5_1_bn[0][0]          \n",
            "__________________________________________________________________________________________________\n",
            "conv4_block5_2_conv (Conv2D)    (None, 14, 14, 256)  590080      conv4_block5_1_relu[0][0]        \n",
            "__________________________________________________________________________________________________\n",
            "conv4_block5_2_bn (BatchNormali (None, 14, 14, 256)  1024        conv4_block5_2_conv[0][0]        \n",
            "__________________________________________________________________________________________________\n",
            "conv4_block5_2_relu (Activation (None, 14, 14, 256)  0           conv4_block5_2_bn[0][0]          \n",
            "__________________________________________________________________________________________________\n",
            "conv4_block5_3_conv (Conv2D)    (None, 14, 14, 1024) 263168      conv4_block5_2_relu[0][0]        \n",
            "__________________________________________________________________________________________________\n",
            "conv4_block5_3_bn (BatchNormali (None, 14, 14, 1024) 4096        conv4_block5_3_conv[0][0]        \n",
            "__________________________________________________________________________________________________\n",
            "conv4_block5_add (Add)          (None, 14, 14, 1024) 0           conv4_block4_out[0][0]           \n",
            "                                                                 conv4_block5_3_bn[0][0]          \n",
            "__________________________________________________________________________________________________\n",
            "conv4_block5_out (Activation)   (None, 14, 14, 1024) 0           conv4_block5_add[0][0]           \n",
            "__________________________________________________________________________________________________\n",
            "conv4_block6_1_conv (Conv2D)    (None, 14, 14, 256)  262400      conv4_block5_out[0][0]           \n",
            "__________________________________________________________________________________________________\n",
            "conv4_block6_1_bn (BatchNormali (None, 14, 14, 256)  1024        conv4_block6_1_conv[0][0]        \n",
            "__________________________________________________________________________________________________\n",
            "conv4_block6_1_relu (Activation (None, 14, 14, 256)  0           conv4_block6_1_bn[0][0]          \n",
            "__________________________________________________________________________________________________\n",
            "conv4_block6_2_conv (Conv2D)    (None, 14, 14, 256)  590080      conv4_block6_1_relu[0][0]        \n",
            "__________________________________________________________________________________________________\n",
            "conv4_block6_2_bn (BatchNormali (None, 14, 14, 256)  1024        conv4_block6_2_conv[0][0]        \n",
            "__________________________________________________________________________________________________\n",
            "conv4_block6_2_relu (Activation (None, 14, 14, 256)  0           conv4_block6_2_bn[0][0]          \n",
            "__________________________________________________________________________________________________\n",
            "conv4_block6_3_conv (Conv2D)    (None, 14, 14, 1024) 263168      conv4_block6_2_relu[0][0]        \n",
            "__________________________________________________________________________________________________\n",
            "conv4_block6_3_bn (BatchNormali (None, 14, 14, 1024) 4096        conv4_block6_3_conv[0][0]        \n",
            "__________________________________________________________________________________________________\n",
            "conv4_block6_add (Add)          (None, 14, 14, 1024) 0           conv4_block5_out[0][0]           \n",
            "                                                                 conv4_block6_3_bn[0][0]          \n",
            "__________________________________________________________________________________________________\n",
            "conv4_block6_out (Activation)   (None, 14, 14, 1024) 0           conv4_block6_add[0][0]           \n",
            "__________________________________________________________________________________________________\n",
            "conv5_block1_1_conv (Conv2D)    (None, 7, 7, 512)    524800      conv4_block6_out[0][0]           \n",
            "__________________________________________________________________________________________________\n",
            "conv5_block1_1_bn (BatchNormali (None, 7, 7, 512)    2048        conv5_block1_1_conv[0][0]        \n",
            "__________________________________________________________________________________________________\n",
            "conv5_block1_1_relu (Activation (None, 7, 7, 512)    0           conv5_block1_1_bn[0][0]          \n",
            "__________________________________________________________________________________________________\n",
            "conv5_block1_2_conv (Conv2D)    (None, 7, 7, 512)    2359808     conv5_block1_1_relu[0][0]        \n",
            "__________________________________________________________________________________________________\n",
            "conv5_block1_2_bn (BatchNormali (None, 7, 7, 512)    2048        conv5_block1_2_conv[0][0]        \n",
            "__________________________________________________________________________________________________\n",
            "conv5_block1_2_relu (Activation (None, 7, 7, 512)    0           conv5_block1_2_bn[0][0]          \n",
            "__________________________________________________________________________________________________\n",
            "conv5_block1_0_conv (Conv2D)    (None, 7, 7, 2048)   2099200     conv4_block6_out[0][0]           \n",
            "__________________________________________________________________________________________________\n",
            "conv5_block1_3_conv (Conv2D)    (None, 7, 7, 2048)   1050624     conv5_block1_2_relu[0][0]        \n",
            "__________________________________________________________________________________________________\n",
            "conv5_block1_0_bn (BatchNormali (None, 7, 7, 2048)   8192        conv5_block1_0_conv[0][0]        \n",
            "__________________________________________________________________________________________________\n",
            "conv5_block1_3_bn (BatchNormali (None, 7, 7, 2048)   8192        conv5_block1_3_conv[0][0]        \n",
            "__________________________________________________________________________________________________\n",
            "conv5_block1_add (Add)          (None, 7, 7, 2048)   0           conv5_block1_0_bn[0][0]          \n",
            "                                                                 conv5_block1_3_bn[0][0]          \n",
            "__________________________________________________________________________________________________\n",
            "conv5_block1_out (Activation)   (None, 7, 7, 2048)   0           conv5_block1_add[0][0]           \n",
            "__________________________________________________________________________________________________\n",
            "conv5_block2_1_conv (Conv2D)    (None, 7, 7, 512)    1049088     conv5_block1_out[0][0]           \n",
            "__________________________________________________________________________________________________\n",
            "conv5_block2_1_bn (BatchNormali (None, 7, 7, 512)    2048        conv5_block2_1_conv[0][0]        \n",
            "__________________________________________________________________________________________________\n",
            "conv5_block2_1_relu (Activation (None, 7, 7, 512)    0           conv5_block2_1_bn[0][0]          \n",
            "__________________________________________________________________________________________________\n",
            "conv5_block2_2_conv (Conv2D)    (None, 7, 7, 512)    2359808     conv5_block2_1_relu[0][0]        \n",
            "__________________________________________________________________________________________________\n",
            "conv5_block2_2_bn (BatchNormali (None, 7, 7, 512)    2048        conv5_block2_2_conv[0][0]        \n",
            "__________________________________________________________________________________________________\n",
            "conv5_block2_2_relu (Activation (None, 7, 7, 512)    0           conv5_block2_2_bn[0][0]          \n",
            "__________________________________________________________________________________________________\n",
            "conv5_block2_3_conv (Conv2D)    (None, 7, 7, 2048)   1050624     conv5_block2_2_relu[0][0]        \n",
            "__________________________________________________________________________________________________\n",
            "conv5_block2_3_bn (BatchNormali (None, 7, 7, 2048)   8192        conv5_block2_3_conv[0][0]        \n",
            "__________________________________________________________________________________________________\n",
            "conv5_block2_add (Add)          (None, 7, 7, 2048)   0           conv5_block1_out[0][0]           \n",
            "                                                                 conv5_block2_3_bn[0][0]          \n",
            "__________________________________________________________________________________________________\n",
            "conv5_block2_out (Activation)   (None, 7, 7, 2048)   0           conv5_block2_add[0][0]           \n",
            "__________________________________________________________________________________________________\n",
            "conv5_block3_1_conv (Conv2D)    (None, 7, 7, 512)    1049088     conv5_block2_out[0][0]           \n",
            "__________________________________________________________________________________________________\n",
            "conv5_block3_1_bn (BatchNormali (None, 7, 7, 512)    2048        conv5_block3_1_conv[0][0]        \n",
            "__________________________________________________________________________________________________\n",
            "conv5_block3_1_relu (Activation (None, 7, 7, 512)    0           conv5_block3_1_bn[0][0]          \n",
            "__________________________________________________________________________________________________\n",
            "conv5_block3_2_conv (Conv2D)    (None, 7, 7, 512)    2359808     conv5_block3_1_relu[0][0]        \n",
            "__________________________________________________________________________________________________\n",
            "conv5_block3_2_bn (BatchNormali (None, 7, 7, 512)    2048        conv5_block3_2_conv[0][0]        \n",
            "__________________________________________________________________________________________________\n",
            "conv5_block3_2_relu (Activation (None, 7, 7, 512)    0           conv5_block3_2_bn[0][0]          \n",
            "__________________________________________________________________________________________________\n",
            "conv5_block3_3_conv (Conv2D)    (None, 7, 7, 2048)   1050624     conv5_block3_2_relu[0][0]        \n",
            "__________________________________________________________________________________________________\n",
            "conv5_block3_3_bn (BatchNormali (None, 7, 7, 2048)   8192        conv5_block3_3_conv[0][0]        \n",
            "__________________________________________________________________________________________________\n",
            "conv5_block3_add (Add)          (None, 7, 7, 2048)   0           conv5_block2_out[0][0]           \n",
            "                                                                 conv5_block3_3_bn[0][0]          \n",
            "__________________________________________________________________________________________________\n",
            "conv5_block3_out (Activation)   (None, 7, 7, 2048)   0           conv5_block3_add[0][0]           \n",
            "__________________________________________________________________________________________________\n",
            "flatten (Flatten)               (None, 100352)       0           conv5_block3_out[0][0]           \n",
            "__________________________________________________________________________________________________\n",
            "dense (Dense)                   (None, 3)            301059      flatten[0][0]                    \n",
            "==================================================================================================\n",
            "Total params: 23,888,771\n",
            "Trainable params: 301,059\n",
            "Non-trainable params: 23,587,712\n",
            "__________________________________________________________________________________________________\n"
          ],
          "name": "stdout"
        }
      ]
    },
    {
      "cell_type": "code",
      "metadata": {
        "id": "UkD4EfXimoQi"
      },
      "source": [
        "model.compile(\r\n",
        "    loss = 'categorical_crossentropy',\r\n",
        "    optimizer = 'adam',\r\n",
        "    metrics = ['accuracy']\r\n",
        ")"
      ],
      "execution_count": 12,
      "outputs": []
    },
    {
      "cell_type": "code",
      "metadata": {
        "id": "hUI6OTz9nm_s"
      },
      "source": [
        "from keras.preprocessing.image import ImageDataGenerator\r\n",
        "\r\n",
        "train_datagen = ImageDataGenerator(rescale = 1./255,\r\n",
        "                                   shear_range = 0.2,\r\n",
        "                                   zoom_range = 0.2,\r\n",
        "                                   horizontal_flip = True)\r\n",
        "\r\n",
        "test_datagen = ImageDataGenerator(rescale = 1./255)"
      ],
      "execution_count": 13,
      "outputs": []
    },
    {
      "cell_type": "code",
      "metadata": {
        "id": "_rr1a8T7oV30",
        "colab": {
          "base_uri": "https://localhost:8080/"
        },
        "outputId": "0acdb889-6096-4d9f-930d-63526a63527b"
      },
      "source": [
        "training_set = train_datagen.flow_from_directory('/content/Dataset/Datasets/Train',\r\n",
        "                                                 target_size = (224, 224),\r\n",
        "                                                 batch_size = 32,\r\n",
        "                                                 class_mode = 'categorical')"
      ],
      "execution_count": 14,
      "outputs": [
        {
          "output_type": "stream",
          "text": [
            "Found 64 images belonging to 3 classes.\n"
          ],
          "name": "stdout"
        }
      ]
    },
    {
      "cell_type": "code",
      "metadata": {
        "id": "3xNuhhg67tSq",
        "colab": {
          "base_uri": "https://localhost:8080/"
        },
        "outputId": "a772167b-ab1c-4dc2-ecfb-4ce1e331140f"
      },
      "source": [
        "test_set = test_datagen.flow_from_directory('/content/Dataset/Datasets/Test',\r\n",
        "                                                 target_size = (224, 224),\r\n",
        "                                                 batch_size = 32,\r\n",
        "                                                 class_mode = 'categorical')"
      ],
      "execution_count": 15,
      "outputs": [
        {
          "output_type": "stream",
          "text": [
            "Found 58 images belonging to 3 classes.\n"
          ],
          "name": "stdout"
        }
      ]
    },
    {
      "cell_type": "code",
      "metadata": {
        "colab": {
          "base_uri": "https://localhost:8080/"
        },
        "id": "QGQ6j4HySdq6",
        "outputId": "aa4a9751-59cf-405b-ec42-2c6eef9ba006"
      },
      "source": [
        "r = model.fit(\r\n",
        "    training_set,\r\n",
        "    validation_data = test_set,\r\n",
        "    epochs = 50,\r\n",
        "    steps_per_epoch = len(training_set),\r\n",
        "    validation_steps = len(test_set)\r\n",
        ")"
      ],
      "execution_count": 16,
      "outputs": [
        {
          "output_type": "stream",
          "text": [
            "Epoch 1/50\n",
            "2/2 [==============================] - 24s 15s/step - loss: 4.3591 - accuracy: 0.2500 - val_loss: 6.7630 - val_accuracy: 0.5172\n",
            "Epoch 2/50\n",
            "2/2 [==============================] - 19s 14s/step - loss: 9.4713 - accuracy: 0.3542 - val_loss: 4.0742 - val_accuracy: 0.3276\n",
            "Epoch 3/50\n",
            "2/2 [==============================] - 19s 14s/step - loss: 4.6951 - accuracy: 0.4583 - val_loss: 4.3539 - val_accuracy: 0.1552\n",
            "Epoch 4/50\n",
            "2/2 [==============================] - 19s 14s/step - loss: 4.1467 - accuracy: 0.3333 - val_loss: 3.6925 - val_accuracy: 0.2759\n",
            "Epoch 5/50\n",
            "2/2 [==============================] - 19s 14s/step - loss: 3.4596 - accuracy: 0.3958 - val_loss: 2.2121 - val_accuracy: 0.5172\n",
            "Epoch 6/50\n",
            "2/2 [==============================] - 19s 14s/step - loss: 1.8310 - accuracy: 0.4479 - val_loss: 4.3721 - val_accuracy: 0.3276\n",
            "Epoch 7/50\n",
            "2/2 [==============================] - 19s 14s/step - loss: 2.7998 - accuracy: 0.4375 - val_loss: 3.6088 - val_accuracy: 0.2414\n",
            "Epoch 8/50\n",
            "2/2 [==============================] - 19s 14s/step - loss: 2.1102 - accuracy: 0.4271 - val_loss: 1.6511 - val_accuracy: 0.2931\n",
            "Epoch 9/50\n",
            "2/2 [==============================] - 19s 14s/step - loss: 1.4460 - accuracy: 0.4688 - val_loss: 2.0384 - val_accuracy: 0.5690\n",
            "Epoch 10/50\n",
            "2/2 [==============================] - 19s 14s/step - loss: 1.9168 - accuracy: 0.4792 - val_loss: 1.9479 - val_accuracy: 0.4310\n",
            "Epoch 11/50\n",
            "2/2 [==============================] - 19s 14s/step - loss: 1.3439 - accuracy: 0.5000 - val_loss: 1.4227 - val_accuracy: 0.5172\n",
            "Epoch 12/50\n",
            "2/2 [==============================] - 19s 14s/step - loss: 0.8748 - accuracy: 0.6146 - val_loss: 1.6024 - val_accuracy: 0.4138\n",
            "Epoch 13/50\n",
            "2/2 [==============================] - 19s 14s/step - loss: 1.2876 - accuracy: 0.5521 - val_loss: 1.2982 - val_accuracy: 0.5862\n",
            "Epoch 14/50\n",
            "2/2 [==============================] - 19s 14s/step - loss: 0.7791 - accuracy: 0.7188 - val_loss: 1.8407 - val_accuracy: 0.4310\n",
            "Epoch 15/50\n",
            "2/2 [==============================] - 19s 14s/step - loss: 1.0947 - accuracy: 0.5833 - val_loss: 1.3893 - val_accuracy: 0.5172\n",
            "Epoch 16/50\n",
            "2/2 [==============================] - 19s 14s/step - loss: 0.7127 - accuracy: 0.6875 - val_loss: 1.4384 - val_accuracy: 0.5172\n",
            "Epoch 17/50\n",
            "2/2 [==============================] - 19s 14s/step - loss: 0.9994 - accuracy: 0.6771 - val_loss: 1.0995 - val_accuracy: 0.5862\n",
            "Epoch 18/50\n",
            "2/2 [==============================] - 19s 14s/step - loss: 0.6537 - accuracy: 0.7083 - val_loss: 1.6962 - val_accuracy: 0.4483\n",
            "Epoch 19/50\n",
            "2/2 [==============================] - 19s 14s/step - loss: 0.9557 - accuracy: 0.6042 - val_loss: 1.1454 - val_accuracy: 0.6207\n",
            "Epoch 20/50\n",
            "2/2 [==============================] - 19s 14s/step - loss: 0.4907 - accuracy: 0.8229 - val_loss: 1.0927 - val_accuracy: 0.6207\n",
            "Epoch 21/50\n",
            "2/2 [==============================] - 19s 14s/step - loss: 0.7573 - accuracy: 0.6979 - val_loss: 1.0190 - val_accuracy: 0.5690\n",
            "Epoch 22/50\n",
            "2/2 [==============================] - 19s 14s/step - loss: 0.4443 - accuracy: 0.7917 - val_loss: 1.3279 - val_accuracy: 0.5172\n",
            "Epoch 23/50\n",
            "2/2 [==============================] - 19s 14s/step - loss: 0.5126 - accuracy: 0.7812 - val_loss: 1.0482 - val_accuracy: 0.7069\n",
            "Epoch 24/50\n",
            "2/2 [==============================] - 19s 14s/step - loss: 0.4352 - accuracy: 0.8021 - val_loss: 0.9355 - val_accuracy: 0.6724\n",
            "Epoch 25/50\n",
            "2/2 [==============================] - 19s 14s/step - loss: 0.4672 - accuracy: 0.8021 - val_loss: 0.9539 - val_accuracy: 0.6379\n",
            "Epoch 26/50\n",
            "2/2 [==============================] - 19s 14s/step - loss: 0.3472 - accuracy: 0.8854 - val_loss: 1.0830 - val_accuracy: 0.6207\n",
            "Epoch 27/50\n",
            "2/2 [==============================] - 25s 20s/step - loss: 0.3910 - accuracy: 0.8750 - val_loss: 0.9567 - val_accuracy: 0.6897\n",
            "Epoch 28/50\n",
            "2/2 [==============================] - 19s 14s/step - loss: 0.3454 - accuracy: 0.8542 - val_loss: 0.8886 - val_accuracy: 0.6552\n",
            "Epoch 29/50\n",
            "2/2 [==============================] - 19s 14s/step - loss: 0.3636 - accuracy: 0.8125 - val_loss: 0.9530 - val_accuracy: 0.6379\n",
            "Epoch 30/50\n",
            "2/2 [==============================] - 19s 14s/step - loss: 0.3083 - accuracy: 0.9167 - val_loss: 1.0626 - val_accuracy: 0.6207\n",
            "Epoch 31/50\n",
            "2/2 [==============================] - 19s 14s/step - loss: 0.3261 - accuracy: 0.8750 - val_loss: 0.8897 - val_accuracy: 0.7069\n",
            "Epoch 32/50\n",
            "2/2 [==============================] - 19s 14s/step - loss: 0.3253 - accuracy: 0.8438 - val_loss: 0.8667 - val_accuracy: 0.7241\n",
            "Epoch 33/50\n",
            "2/2 [==============================] - 19s 14s/step - loss: 0.3467 - accuracy: 0.8750 - val_loss: 1.1252 - val_accuracy: 0.5862\n",
            "Epoch 34/50\n",
            "2/2 [==============================] - 19s 14s/step - loss: 0.3796 - accuracy: 0.8750 - val_loss: 0.8955 - val_accuracy: 0.6552\n",
            "Epoch 35/50\n",
            "2/2 [==============================] - 19s 14s/step - loss: 0.2593 - accuracy: 0.8958 - val_loss: 0.8980 - val_accuracy: 0.7241\n",
            "Epoch 36/50\n",
            "2/2 [==============================] - 19s 14s/step - loss: 0.3279 - accuracy: 0.8646 - val_loss: 0.9935 - val_accuracy: 0.6379\n",
            "Epoch 37/50\n",
            "2/2 [==============================] - 19s 14s/step - loss: 0.2574 - accuracy: 0.9375 - val_loss: 0.9988 - val_accuracy: 0.6552\n",
            "Epoch 38/50\n",
            "2/2 [==============================] - 19s 14s/step - loss: 0.2968 - accuracy: 0.8958 - val_loss: 0.8711 - val_accuracy: 0.7241\n",
            "Epoch 39/50\n",
            "2/2 [==============================] - 19s 14s/step - loss: 0.2906 - accuracy: 0.9062 - val_loss: 0.8760 - val_accuracy: 0.7241\n",
            "Epoch 40/50\n",
            "2/2 [==============================] - 19s 14s/step - loss: 0.2108 - accuracy: 0.9583 - val_loss: 1.0135 - val_accuracy: 0.6552\n",
            "Epoch 41/50\n",
            "2/2 [==============================] - 19s 14s/step - loss: 0.2480 - accuracy: 0.9167 - val_loss: 0.8943 - val_accuracy: 0.6724\n",
            "Epoch 42/50\n",
            "2/2 [==============================] - 19s 14s/step - loss: 0.2352 - accuracy: 0.9688 - val_loss: 0.8753 - val_accuracy: 0.7241\n",
            "Epoch 43/50\n",
            "2/2 [==============================] - 19s 14s/step - loss: 0.2345 - accuracy: 0.9479 - val_loss: 0.9281 - val_accuracy: 0.6724\n",
            "Epoch 44/50\n",
            "2/2 [==============================] - 19s 14s/step - loss: 0.2848 - accuracy: 0.9479 - val_loss: 0.9539 - val_accuracy: 0.6897\n",
            "Epoch 45/50\n",
            "2/2 [==============================] - 19s 14s/step - loss: 0.2309 - accuracy: 0.9375 - val_loss: 0.8788 - val_accuracy: 0.7069\n",
            "Epoch 46/50\n",
            "2/2 [==============================] - 19s 14s/step - loss: 0.2339 - accuracy: 0.8854 - val_loss: 0.9052 - val_accuracy: 0.6897\n",
            "Epoch 47/50\n",
            "2/2 [==============================] - 19s 14s/step - loss: 0.2235 - accuracy: 0.9271 - val_loss: 0.9653 - val_accuracy: 0.6897\n",
            "Epoch 48/50\n",
            "2/2 [==============================] - 19s 14s/step - loss: 0.2074 - accuracy: 0.9688 - val_loss: 0.8627 - val_accuracy: 0.7241\n",
            "Epoch 49/50\n",
            "2/2 [==============================] - 19s 14s/step - loss: 0.2280 - accuracy: 0.9479 - val_loss: 0.8619 - val_accuracy: 0.7241\n",
            "Epoch 50/50\n",
            "2/2 [==============================] - 19s 14s/step - loss: 0.2181 - accuracy: 0.9792 - val_loss: 1.0087 - val_accuracy: 0.6552\n"
          ],
          "name": "stdout"
        }
      ]
    },
    {
      "cell_type": "code",
      "metadata": {
        "id": "xLQTt3cvWg_O",
        "colab": {
          "base_uri": "https://localhost:8080/",
          "height": 532
        },
        "outputId": "842d23fe-ae12-4261-9ba8-796cd3ac4b3e"
      },
      "source": [
        "plt.plot(r.history['loss'], label = 'training loss')\r\n",
        "plt.plot(r.history['val_loss'], label = 'validation loss')\r\n",
        "plt.legend()\r\n",
        "plt.show()\r\n",
        "plt.savefig('LossVal_loss')\r\n",
        "\r\n",
        "plt.plot(r.history['accuracy'], label = 'train accuracy')\r\n",
        "plt.plot(r.history['val_accuracy'], label = 'validation accuracy')\r\n",
        "plt.legend()\r\n",
        "plt.show()\r\n",
        "plt.savefig('AccVal_acc')"
      ],
      "execution_count": 17,
      "outputs": [
        {
          "output_type": "display_data",
          "data": {
            "image/png": "[encoded data removed]",
            "text/plain": [
              "<Figure size 432x288 with 1 Axes>"
            ]
          },
          "metadata": {
            "tags": [],
            "needs_background": "light"
          }
        },
        {
          "output_type": "display_data",
          "data": {
            "image/png": "[encoded data removed]",
            "text/plain": [
              "<Figure size 432x288 with 1 Axes>"
            ]
          },
          "metadata": {
            "tags": [],
            "needs_background": "light"
          }
        },
        {
          "output_type": "display_data",
          "data": {
            "text/plain": [
              "<Figure size 432x288 with 0 Axes>"
            ]
          },
          "metadata": {
            "tags": []
          }
        }
      ]
    },
    {
      "cell_type": "code",
      "metadata": {
        "id": "AMPcwcmLFqFY"
      },
      "source": [
        "from keras.models import load_model\r\n",
        "\r\n",
        "model.save('model_resnet50.h5')"
      ],
      "execution_count": 18,
      "outputs": []
    },
    {
      "cell_type": "code",
      "metadata": {
        "id": "2FC04g52JBmP"
      },
      "source": [
        "y_pred = model.predict(test_set)"
      ],
      "execution_count": 19,
      "outputs": []
    },
    {
      "cell_type": "code",
      "metadata": {
        "colab": {
          "base_uri": "https://localhost:8080/"
        },
        "id": "4LKT0Y1sJPcx",
        "outputId": "84830f71-5229-4d98-c9da-ea4c62b94e9e"
      },
      "source": [
        "y_pred"
      ],
      "execution_count": 20,
      "outputs": [
        {
          "output_type": "execute_result",
          "data": {
            "text/plain": [
              "array([[8.0591285e-01, 5.9908267e-02, 1.3417894e-01],\n",
              "       [2.2003658e-02, 7.0638046e-02, 9.0735829e-01],\n",
              "       [2.1654137e-03, 1.2183774e-02, 9.8565084e-01],\n",
              "       [6.0870633e-03, 1.1889801e-03, 9.9272400e-01],\n",
              "       [2.4455898e-02, 5.2031964e-01, 4.5522448e-01],\n",
              "       [4.4989925e-02, 2.8873417e-01, 6.6627592e-01],\n",
              "       [5.3119976e-02, 5.2371465e-02, 8.9450854e-01],\n",
              "       [1.6300710e-06, 2.3373596e-04, 9.9976462e-01],\n",
              "       [3.9948454e-01, 1.0204168e-01, 4.9847379e-01],\n",
              "       [2.4152201e-02, 2.2838065e-01, 7.4746710e-01],\n",
              "       [1.5962441e-02, 3.6814237e-01, 6.1589515e-01],\n",
              "       [7.8277534e-01, 7.5754441e-02, 1.4147025e-01],\n",
              "       [3.3902747e-06, 5.5620127e-05, 9.9994099e-01],\n",
              "       [2.3284359e-02, 1.3416435e-01, 8.4255123e-01],\n",
              "       [1.3002677e-02, 9.0583153e-02, 8.9641416e-01],\n",
              "       [2.6393420e-01, 6.3111693e-01, 1.0494888e-01],\n",
              "       [8.6153280e-03, 9.3877321e-01, 5.2611511e-02],\n",
              "       [6.2927715e-03, 8.8957530e-01, 1.0413190e-01],\n",
              "       [2.5875593e-02, 5.2334927e-03, 9.6889091e-01],\n",
              "       [1.3088968e-01, 4.3059823e-01, 4.3851209e-01],\n",
              "       [1.5263468e-01, 2.0756979e-01, 6.3979548e-01],\n",
              "       [1.3639735e-02, 9.8257476e-01, 3.7854507e-03],\n",
              "       [4.6806087e-04, 9.6863157e-01, 3.0900327e-02],\n",
              "       [8.7331478e-03, 1.4789818e-03, 9.8978794e-01],\n",
              "       [7.0589530e-01, 2.7385101e-01, 2.0253649e-02],\n",
              "       [5.1425159e-01, 2.5597635e-01, 2.2977203e-01],\n",
              "       [8.4380887e-02, 8.6309212e-01, 5.2527037e-02],\n",
              "       [2.0701559e-02, 1.4130560e-01, 8.3799279e-01],\n",
              "       [1.4502170e-03, 4.9306342e-01, 5.0548637e-01],\n",
              "       [4.4870567e-02, 1.7835271e-01, 7.7677667e-01],\n",
              "       [3.0538476e-01, 2.1148191e-01, 4.8313338e-01],\n",
              "       [5.7550464e-02, 6.1027914e-01, 3.3217043e-01],\n",
              "       [9.4993040e-03, 8.0391109e-01, 1.8658961e-01],\n",
              "       [2.2799866e-03, 9.6502107e-01, 3.2698974e-02],\n",
              "       [1.1104258e-01, 4.9905396e-01, 3.8990340e-01],\n",
              "       [4.6647483e-01, 1.3125530e-02, 5.2039969e-01],\n",
              "       [1.4876511e-02, 7.6874244e-01, 2.1638106e-01],\n",
              "       [4.3615168e-03, 1.0153731e-01, 8.9410114e-01],\n",
              "       [2.4566736e-02, 8.5795784e-01, 1.1747545e-01],\n",
              "       [1.0031593e-01, 5.2776515e-01, 3.7191889e-01],\n",
              "       [1.6925178e-02, 5.4869796e-03, 9.7758782e-01],\n",
              "       [1.2486818e-03, 9.3276787e-01, 6.5983430e-02],\n",
              "       [8.5757710e-03, 1.0917343e-03, 9.9033242e-01],\n",
              "       [2.0270633e-02, 5.5922115e-01, 4.2050827e-01],\n",
              "       [1.6100775e-02, 2.0422536e-01, 7.7967387e-01],\n",
              "       [2.7012956e-01, 5.3003222e-02, 6.7686725e-01],\n",
              "       [1.0360673e-02, 7.7537455e-02, 9.1210186e-01],\n",
              "       [9.4191456e-01, 1.9644191e-02, 3.8441345e-02],\n",
              "       [2.8129270e-02, 5.3270501e-01, 4.3916577e-01],\n",
              "       [1.7830820e-01, 2.9695922e-01, 5.2473259e-01],\n",
              "       [3.4562133e-02, 6.0081840e-01, 3.6461955e-01],\n",
              "       [5.5328626e-02, 2.2430736e-01, 7.2036403e-01],\n",
              "       [2.9162460e-03, 9.7336322e-01, 2.3720482e-02],\n",
              "       [8.2505576e-02, 1.1680568e-01, 8.0068874e-01],\n",
              "       [3.4800137e-03, 2.0298490e-01, 7.9353505e-01],\n",
              "       [2.8936055e-02, 7.9917377e-01, 1.7189026e-01],\n",
              "       [1.2803207e-02, 2.7553523e-01, 7.1166152e-01],\n",
              "       [1.1611206e-02, 1.3787583e-04, 9.8825091e-01]], dtype=float32)"
            ]
          },
          "metadata": {
            "tags": []
          },
          "execution_count": 20
        }
      ]
    },
    {
      "cell_type": "code",
      "metadata": {
        "id": "5X6sWQp_JUN_"
      },
      "source": [
        "y_pred = np.argmax(y_pred, axis = 1)"
      ],
      "execution_count": 21,
      "outputs": []
    },
    {
      "cell_type": "code",
      "metadata": {
        "colab": {
          "base_uri": "https://localhost:8080/"
        },
        "id": "z2SSXNFvKDbs",
        "outputId": "be651b1e-cc7d-4b85-bc7c-fed54195cd70"
      },
      "source": [
        "y_pred"
      ],
      "execution_count": 22,
      "outputs": [
        {
          "output_type": "execute_result",
          "data": {
            "text/plain": [
              "array([0, 2, 2, 2, 1, 2, 2, 2, 2, 2, 2, 0, 2, 2, 2, 1, 1, 1, 2, 2, 2, 1,\n",
              "       1, 2, 0, 0, 1, 2, 2, 2, 2, 1, 1, 1, 1, 2, 1, 2, 1, 1, 2, 1, 2, 1,\n",
              "       2, 2, 2, 0, 1, 2, 1, 2, 1, 2, 2, 1, 2, 2])"
            ]
          },
          "metadata": {
            "tags": []
          },
          "execution_count": 22
        }
      ]
    },
    {
      "cell_type": "code",
      "metadata": {
        "id": "JQKJ3KxWMikF"
      },
      "source": [
        "from keras.models import load_model\r\n",
        "from keras.preprocessing import image"
      ],
      "execution_count": 23,
      "outputs": []
    },
    {
      "cell_type": "code",
      "metadata": {
        "id": "wyWc2zR0KEek"
      },
      "source": [
        "model = load_model('model_resnet50.h5')"
      ],
      "execution_count": 24,
      "outputs": []
    },
    {
      "cell_type": "code",
      "metadata": {
        "id": "sfZBrVkUKOM_"
      },
      "source": [
        "img = image.load_img('/content/Dataset/Datasets/Test/lamborghini/11.jpg', target_size = (224, 224))"
      ],
      "execution_count": 25,
      "outputs": []
    },
    {
      "cell_type": "code",
      "metadata": {
        "colab": {
          "base_uri": "https://localhost:8080/"
        },
        "id": "CqSovvfbLf7F",
        "outputId": "94ae9893-a53f-49b8-f693-077c149a26ef"
      },
      "source": [
        "x = image.img_to_array(img)\r\n",
        "x"
      ],
      "execution_count": 26,
      "outputs": [
        {
          "output_type": "execute_result",
          "data": {
            "text/plain": [
              "array([[[252., 252., 252.],\n",
              "        [252., 252., 252.],\n",
              "        [252., 252., 252.],\n",
              "        ...,\n",
              "        [196., 187., 172.],\n",
              "        [217., 208., 193.],\n",
              "        [243., 234., 219.]],\n",
              "\n",
              "       [[252., 252., 252.],\n",
              "        [252., 252., 252.],\n",
              "        [252., 252., 252.],\n",
              "        ...,\n",
              "        [245., 245., 237.],\n",
              "        [243., 243., 235.],\n",
              "        [242., 242., 234.]],\n",
              "\n",
              "       [[252., 252., 252.],\n",
              "        [252., 252., 252.],\n",
              "        [252., 252., 252.],\n",
              "        ...,\n",
              "        [240., 249., 248.],\n",
              "        [242., 251., 250.],\n",
              "        [242., 251., 250.]],\n",
              "\n",
              "       ...,\n",
              "\n",
              "       [[189., 207., 229.],\n",
              "        [190., 206., 229.],\n",
              "        [190., 206., 229.],\n",
              "        ...,\n",
              "        [171., 180., 187.],\n",
              "        [171., 180., 187.],\n",
              "        [171., 180., 187.]],\n",
              "\n",
              "       [[185., 206., 227.],\n",
              "        [185., 206., 227.],\n",
              "        [185., 206., 227.],\n",
              "        ...,\n",
              "        [171., 180., 187.],\n",
              "        [171., 180., 187.],\n",
              "        [171., 180., 187.]],\n",
              "\n",
              "       [[185., 206., 227.],\n",
              "        [185., 206., 227.],\n",
              "        [185., 206., 227.],\n",
              "        ...,\n",
              "        [171., 180., 187.],\n",
              "        [171., 180., 187.],\n",
              "        [171., 180., 187.]]], dtype=float32)"
            ]
          },
          "metadata": {
            "tags": []
          },
          "execution_count": 26
        }
      ]
    },
    {
      "cell_type": "code",
      "metadata": {
        "colab": {
          "base_uri": "https://localhost:8080/"
        },
        "id": "642YQONJLoyL",
        "outputId": "7e006e77-df3a-4317-8732-9177110b7752"
      },
      "source": [
        "x.shape"
      ],
      "execution_count": 27,
      "outputs": [
        {
          "output_type": "execute_result",
          "data": {
            "text/plain": [
              "(224, 224, 3)"
            ]
          },
          "metadata": {
            "tags": []
          },
          "execution_count": 27
        }
      ]
    },
    {
      "cell_type": "code",
      "metadata": {
        "id": "iepQlhlhLzX3"
      },
      "source": [
        "x = x/225"
      ],
      "execution_count": 28,
      "outputs": []
    },
    {
      "cell_type": "code",
      "metadata": {
        "colab": {
          "base_uri": "https://localhost:8080/"
        },
        "id": "ESl6nFAoL1sZ",
        "outputId": "ccdd9331-ce62-4a44-cbff-bbcf764bde67"
      },
      "source": [
        "x = np.expand_dims(x, axis = 0)\r\n",
        "img_data = preprocess_input(x)\r\n",
        "img_data.shape\r\n",
        "img_data"
      ],
      "execution_count": 29,
      "outputs": [
        {
          "output_type": "execute_result",
          "data": {
            "text/plain": [
              "array([[[[-102.819   , -115.659   , -122.56    ],\n",
              "         [-102.819   , -115.659   , -122.56    ],\n",
              "         [-102.819   , -115.659   , -122.56    ],\n",
              "         ...,\n",
              "         [-103.17456 , -115.94789 , -122.80889 ],\n",
              "         [-103.08122 , -115.85455 , -122.71555 ],\n",
              "         [-102.96567 , -115.739   , -122.6     ]],\n",
              "\n",
              "        [[-102.819   , -115.659   , -122.56    ],\n",
              "         [-102.819   , -115.659   , -122.56    ],\n",
              "         [-102.819   , -115.659   , -122.56    ],\n",
              "         ...,\n",
              "         [-102.885666, -115.69011 , -122.59111 ],\n",
              "         [-102.89456 , -115.699   , -122.6     ],\n",
              "         [-102.899   , -115.703445, -122.60445 ]],\n",
              "\n",
              "        [[-102.819   , -115.659   , -122.56    ],\n",
              "         [-102.819   , -115.659   , -122.56    ],\n",
              "         [-102.819   , -115.659   , -122.56    ],\n",
              "         ...,\n",
              "         [-102.836784, -115.67233 , -122.613335],\n",
              "         [-102.82789 , -115.663445, -122.60445 ],\n",
              "         [-102.82789 , -115.663445, -122.60445 ]],\n",
              "\n",
              "        ...,\n",
              "\n",
              "        [[-102.92123 , -115.859   , -122.840004],\n",
              "         [-102.92123 , -115.86344 , -122.835556],\n",
              "         [-102.92123 , -115.86344 , -122.835556],\n",
              "         ...,\n",
              "         [-103.107895, -115.979   , -122.92    ],\n",
              "         [-103.107895, -115.979   , -122.92    ],\n",
              "         [-103.107895, -115.979   , -122.92    ]],\n",
              "\n",
              "        [[-102.930115, -115.86344 , -122.85778 ],\n",
              "         [-102.930115, -115.86344 , -122.85778 ],\n",
              "         [-102.930115, -115.86344 , -122.85778 ],\n",
              "         ...,\n",
              "         [-103.107895, -115.979   , -122.92    ],\n",
              "         [-103.107895, -115.979   , -122.92    ],\n",
              "         [-103.107895, -115.979   , -122.92    ]],\n",
              "\n",
              "        [[-102.930115, -115.86344 , -122.85778 ],\n",
              "         [-102.930115, -115.86344 , -122.85778 ],\n",
              "         [-102.930115, -115.86344 , -122.85778 ],\n",
              "         ...,\n",
              "         [-103.107895, -115.979   , -122.92    ],\n",
              "         [-103.107895, -115.979   , -122.92    ],\n",
              "         [-103.107895, -115.979   , -122.92    ]]]], dtype=float32)"
            ]
          },
          "metadata": {
            "tags": []
          },
          "execution_count": 29
        }
      ]
    },
    {
      "cell_type": "code",
      "metadata": {
        "colab": {
          "base_uri": "https://localhost:8080/"
        },
        "id": "f7Rl_4oaMF2x",
        "outputId": "c2d3789a-193e-4dc6-f324-e705d1071ee3"
      },
      "source": [
        "model.predict(img_data)"
      ],
      "execution_count": 30,
      "outputs": [
        {
          "output_type": "execute_result",
          "data": {
            "text/plain": [
              "array([[0.00182233, 0.00188574, 0.996292  ]], dtype=float32)"
            ]
          },
          "metadata": {
            "tags": []
          },
          "execution_count": 30
        }
      ]
    },
    {
      "cell_type": "code",
      "metadata": {
        "id": "UK8y0jGRMIva"
      },
      "source": [
        "a = np.argmax(model.predict(img_data), axis = 1)"
      ],
      "execution_count": 31,
      "outputs": []
    },
    {
      "cell_type": "code",
      "metadata": {
        "colab": {
          "base_uri": "https://localhost:8080/"
        },
        "id": "UBf2RIkuMOv1",
        "outputId": "18e38da3-dc3b-4d58-d919-b97b575b61db"
      },
      "source": [
        "a == 1"
      ],
      "execution_count": 32,
      "outputs": [
        {
          "output_type": "execute_result",
          "data": {
            "text/plain": [
              "array([False])"
            ]
          },
          "metadata": {
            "tags": []
          },
          "execution_count": 32
        }
      ]
    },
    {
      "cell_type": "code",
      "metadata": {
        "id": "pi0RiFeDMPr_"
      },
      "source": [
        ""
      ],
      "execution_count": 32,
      "outputs": []
    }
  ]
}